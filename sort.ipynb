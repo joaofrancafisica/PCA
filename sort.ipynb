{
 "cells": [
  {
   "cell_type": "code",
   "execution_count": 1,
   "metadata": {},
   "outputs": [],
   "source": [
    "%matplotlib inline"
   ]
  },
  {
   "cell_type": "code",
   "execution_count": 2,
   "metadata": {},
   "outputs": [],
   "source": [
    "import scipy as sp\n",
    "import scipy.interpolate\n",
    "import numpy as np\n",
    "import glob #to read the files\n",
    "import random\n",
    "from sklearn.decomposition import PCA\n",
    "from ipywidgets import *\n",
    "from tabulate import tabulate #to export in table format\n"
   ]
  },
  {
   "cell_type": "code",
   "execution_count": 3,
   "metadata": {},
   "outputs": [],
   "source": [
    "x = np.linspace(-10,50,61)\n",
    "y = np.linspace(2000,9200,721)"
   ]
  },
  {
   "cell_type": "code",
   "execution_count": 4,
   "metadata": {},
   "outputs": [
    {
     "data": {
      "text/plain": [
       "<function TextIOWrapper.close()>"
      ]
     },
     "execution_count": 4,
     "metadata": {},
     "output_type": "execute_result"
    }
   ],
   "source": [
    "file = open(\"sort.txt\")\n",
    "lines = file.readlines()\n",
    "file.close"
   ]
  },
  {
   "cell_type": "code",
   "execution_count": 5,
   "metadata": {},
   "outputs": [],
   "source": [
    "sn_names = []"
   ]
  },
  {
   "cell_type": "code",
   "execution_count": 6,
   "metadata": {},
   "outputs": [],
   "source": [
    "for line in lines:\n",
    "    if line.startswith('#'): continue\n",
    "    co=line.rstrip().replace('INDEF','Nan').split()\n",
    "\n",
    "    sn_names.append(co[0])"
   ]
  },
  {
   "cell_type": "code",
   "execution_count": 7,
   "metadata": {},
   "outputs": [],
   "source": [
    "file = open(\"factors.txt\")\n",
    "lines = file.readlines()\n",
    "file.close()"
   ]
  },
  {
   "cell_type": "code",
   "execution_count": 8,
   "metadata": {},
   "outputs": [],
   "source": [
    "max_names = []\n",
    "max_values = []"
   ]
  },
  {
   "cell_type": "code",
   "execution_count": 9,
   "metadata": {},
   "outputs": [],
   "source": [
    "for line in lines:\n",
    "    if line.startswith('#'): continue\n",
    "    co=line.rstrip().replace('INDEF','Nan').split()\n",
    "\n",
    "    max_names.append(co[0])\n",
    "    max_values.append(co[1])"
   ]
  },
  {
   "cell_type": "code",
   "execution_count": 10,
   "metadata": {},
   "outputs": [],
   "source": [
    "new_names = []"
   ]
  },
  {
   "cell_type": "code",
   "execution_count": null,
   "metadata": {},
   "outputs": [],
   "source": []
  },
  {
   "cell_type": "code",
   "execution_count": 11,
   "metadata": {},
   "outputs": [],
   "source": [
    "histogram = []\n",
    "\n",
    "j = 20\n",
    "\n",
    "while j < 21:\n",
    "    \n",
    "    sort_names = []\n",
    "    \n",
    "    for i in range(0,1000):\n",
    "\n",
    "        sort_names.append(random.sample(range(len(sn_names)), j))\n",
    "        \n",
    "    histogram.append(np.array(sort_names))\n",
    "        \n",
    "    j += 5"
   ]
  },
  {
   "cell_type": "code",
   "execution_count": 12,
   "metadata": {},
   "outputs": [],
   "source": [
    "N = 3"
   ]
  },
  {
   "cell_type": "code",
   "execution_count": 13,
   "metadata": {
    "scrolled": true
   },
   "outputs": [
    {
     "data": {
      "text/plain": [
       "['SN2003du',\n",
       " 'SN2011fe',\n",
       " 'SN2001V',\n",
       " 'SN2002cd',\n",
       " 'SN2002bo',\n",
       " 'SN2007F',\n",
       " 'SN2012fr',\n",
       " 'SN2008ar',\n",
       " 'SN2001ep',\n",
       " 'SN2005el',\n",
       " 'SN2000cx',\n",
       " 'SN1999aa',\n",
       " 'SN1995D',\n",
       " 'SN2006D',\n",
       " 'SN1998aq',\n",
       " 'SN2014J',\n",
       " 'SN2003fa',\n",
       " 'SN1996X',\n",
       " 'SN2005cf',\n",
       " 'SN2006lf',\n",
       " 'SN2003W',\n",
       " 'SN2007af',\n",
       " 'SN1999ac',\n",
       " 'SN2007le',\n",
       " 'SN2005bl',\n",
       " 'SN1994ae',\n",
       " 'SN2005am',\n",
       " 'SN2008s1',\n",
       " 'SN2009Y',\n",
       " 'SN2004dt',\n",
       " 'SN2008bf',\n",
       " 'SN2006X',\n",
       " 'SN2009dc',\n",
       " 'SN2007kk',\n",
       " 'SN2007hj',\n",
       " 'SN1994D',\n",
       " 'SN2007bm',\n",
       " 'SN2002fk',\n",
       " 'SN2003kf',\n",
       " 'SN2010ae',\n",
       " 'SN1999by',\n",
       " 'SN2008Z',\n",
       " 'SN2007on']"
      ]
     },
     "execution_count": 13,
     "metadata": {},
     "output_type": "execute_result"
    }
   ],
   "source": [
    "sn_names"
   ]
  },
  {
   "cell_type": "code",
   "execution_count": 14,
   "metadata": {},
   "outputs": [],
   "source": [
    "med = []"
   ]
  },
  {
   "cell_type": "code",
   "execution_count": 15,
   "metadata": {},
   "outputs": [
    {
     "name": "stdout",
     "output_type": "stream",
     "text": [
      "0\n"
     ]
    },
    {
     "ename": "KeyboardInterrupt",
     "evalue": "",
     "output_type": "error",
     "traceback": [
      "\u001b[0;31m---------------------------------------------------------------------------\u001b[0m",
      "\u001b[0;31mKeyboardInterrupt\u001b[0m                         Traceback (most recent call last)",
      "\u001b[0;32m<ipython-input-15-b31d2d67c04e>\u001b[0m in \u001b[0;36m<module>\u001b[0;34m\u001b[0m\n\u001b[1;32m     51\u001b[0m                     \u001b[0mzz\u001b[0m\u001b[0;34m.\u001b[0m\u001b[0mappend\u001b[0m\u001b[0;34m(\u001b[0m\u001b[0mz\u001b[0m\u001b[0;34m[\u001b[0m\u001b[0mi\u001b[0m\u001b[0;34m]\u001b[0m\u001b[0;34m[\u001b[0m\u001b[0mj\u001b[0m\u001b[0;34m]\u001b[0m\u001b[0;34m)\u001b[0m\u001b[0;34m\u001b[0m\u001b[0;34m\u001b[0m\u001b[0m\n\u001b[1;32m     52\u001b[0m                     \u001b[0mxx\u001b[0m\u001b[0;34m.\u001b[0m\u001b[0mappend\u001b[0m\u001b[0;34m(\u001b[0m\u001b[0mx\u001b[0m\u001b[0;34m[\u001b[0m\u001b[0mj\u001b[0m\u001b[0;34m]\u001b[0m\u001b[0;34m)\u001b[0m\u001b[0;34m\u001b[0m\u001b[0;34m\u001b[0m\u001b[0m\n\u001b[0;32m---> 53\u001b[0;31m                     \u001b[0myy\u001b[0m\u001b[0;34m.\u001b[0m\u001b[0mappend\u001b[0m\u001b[0;34m(\u001b[0m\u001b[0my\u001b[0m\u001b[0;34m[\u001b[0m\u001b[0mi\u001b[0m\u001b[0;34m]\u001b[0m\u001b[0;34m)\u001b[0m\u001b[0;34m\u001b[0m\u001b[0;34m\u001b[0m\u001b[0m\n\u001b[0m\u001b[1;32m     54\u001b[0m \u001b[0;34m\u001b[0m\u001b[0m\n\u001b[1;32m     55\u001b[0m             \u001b[0mX\u001b[0m\u001b[0;34m.\u001b[0m\u001b[0mappend\u001b[0m\u001b[0;34m(\u001b[0m\u001b[0mnp\u001b[0m\u001b[0;34m.\u001b[0m\u001b[0marray\u001b[0m\u001b[0;34m(\u001b[0m\u001b[0mzz\u001b[0m\u001b[0;34m)\u001b[0m\u001b[0;34m)\u001b[0m\u001b[0;34m\u001b[0m\u001b[0;34m\u001b[0m\u001b[0m\n",
      "\u001b[0;31mKeyboardInterrupt\u001b[0m: "
     ]
    }
   ],
   "source": [
    "for kkk in range(0,len(histogram)):\n",
    "    var = []\n",
    "    print(kkk)\n",
    "    for kk in range(0,len(histogram[kkk])):\n",
    "\n",
    "        X = []\n",
    "\n",
    "        #print(histogram[kkk][kk])\n",
    "\n",
    "        for k in range(0,len(histogram[kkk][kk])):\n",
    "            \n",
    "            #print(sn_names[sort_names[kk][k]])\n",
    "\n",
    "            #sn_names = sn_names[sort_names[kk][k]]\n",
    "\n",
    "            idx = max_names.index(sn_names[histogram[kkk][kk][k]])\n",
    "\n",
    "\n",
    "            #print(float(max_values[idx]))\n",
    "\n",
    "            file = open(sn_names[histogram[kkk][kk][k]]+\".dat\")\n",
    "            lines = file.readlines()\n",
    "            file.close()\n",
    "\n",
    "            xtemp = []\n",
    "\n",
    "            for line in lines:\n",
    "\n",
    "                if line.startswith('#'): continue\n",
    "                co=line.rstrip().replace('INDEF','Nan').split()\n",
    "\n",
    "                xtemp.append(co[0])\n",
    "\n",
    "            xtemp = np.array(xtemp, dtype=float)\n",
    "\n",
    "            xtemp = xtemp*float(max_values[idx])\n",
    "\n",
    "            #xtemp = xtemp/max(xtemp)\n",
    "            new_names.append(sn_names[histogram[kkk][kk][k]])\n",
    "\n",
    "            z = np.reshape(xtemp, (721, 61))\n",
    "\n",
    "            zz = []\n",
    "            xx = []\n",
    "            yy = []\n",
    "\n",
    "            for i in range(0,len(y)):\n",
    "\n",
    "                for j in range(0,len(x)):\n",
    "\n",
    "                    zz.append(z[i][j])\n",
    "                    xx.append(x[j])\n",
    "                    yy.append(y[i])\n",
    "\n",
    "            X.append(np.array(zz))\n",
    "\n",
    "        pca = PCA(N)\n",
    "        pca.fit(X)\n",
    "\n",
    "        var.append(pca.explained_variance_ratio_[0]+pca.explained_variance_ratio_[1]+pca.explained_variance_ratio_[2])\n",
    "\n",
    "    med.append(np.mean(var))"
   ]
  },
  {
   "cell_type": "code",
   "execution_count": 18,
   "metadata": {},
   "outputs": [
    {
     "data": {
      "text/plain": [
       "285"
      ]
     },
     "execution_count": 18,
     "metadata": {},
     "output_type": "execute_result"
    }
   ],
   "source": [
    "len(var)"
   ]
  },
  {
   "cell_type": "code",
   "execution_count": null,
   "metadata": {},
   "outputs": [],
   "source": []
  }
 ],
 "metadata": {
  "kernelspec": {
   "display_name": "Python 3",
   "language": "python",
   "name": "python3"
  },
  "language_info": {
   "codemirror_mode": {
    "name": "ipython",
    "version": 3
   },
   "file_extension": ".py",
   "mimetype": "text/x-python",
   "name": "python",
   "nbconvert_exporter": "python",
   "pygments_lexer": "ipython3",
   "version": "3.6.9"
  }
 },
 "nbformat": 4,
 "nbformat_minor": 2
}
