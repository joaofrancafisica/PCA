{
 "cells": [
  {
   "cell_type": "code",
   "execution_count": 1,
   "metadata": {},
   "outputs": [],
   "source": [
    "import scipy as sp\n",
    "import scipy.interpolate\n",
    "import numpy as np\n",
    "import glob\n",
    "from tabulate import tabulate #to export in table format\n",
    "import scipy.interpolate as interp"
   ]
  },
  {
   "cell_type": "code",
   "execution_count": 2,
   "metadata": {},
   "outputs": [
    {
     "name": "stdout",
     "output_type": "stream",
     "text": [
      "113\n"
     ]
    }
   ],
   "source": [
    "sn_names=glob.glob(\"*.dat\")\n",
    "print(len(sn_names))"
   ]
  },
  {
   "cell_type": "code",
   "execution_count": 3,
   "metadata": {},
   "outputs": [],
   "source": [
    "file = open(\"factors.txt\")\n",
    "lines = file.readlines()\n",
    "file.close()"
   ]
  },
  {
   "cell_type": "code",
   "execution_count": 4,
   "metadata": {},
   "outputs": [],
   "source": [
    "max_names = []\n",
    "max_values = []"
   ]
  },
  {
   "cell_type": "code",
   "execution_count": 5,
   "metadata": {},
   "outputs": [],
   "source": [
    "for line in lines:\n",
    "    if line.startswith('#'): continue\n",
    "    co=line.rstrip().replace('INDEF','Nan').split()\n",
    "\n",
    "    max_names.append(co[0])\n",
    "    max_values.append(co[1])"
   ]
  },
  {
   "cell_type": "code",
   "execution_count": 6,
   "metadata": {},
   "outputs": [],
   "source": [
    "new_names = []"
   ]
  },
  {
   "cell_type": "code",
   "execution_count": 7,
   "metadata": {},
   "outputs": [],
   "source": [
    "x = np.linspace(-10,50,61)\n",
    "y = np.linspace(3000,9000,601)"
   ]
  },
  {
   "cell_type": "code",
   "execution_count": 8,
   "metadata": {},
   "outputs": [],
   "source": [
    "X = []"
   ]
  },
  {
   "cell_type": "code",
   "execution_count": 9,
   "metadata": {},
   "outputs": [],
   "source": [
    "max_hist = []"
   ]
  },
  {
   "cell_type": "code",
   "execution_count": 10,
   "metadata": {},
   "outputs": [],
   "source": [
    "for k in range(0,len(sn_names)):\n",
    "    \n",
    "    if sn_names[k][:-4] in max_names:\n",
    "        \n",
    "        idx = max_names.index(sn_names[k][:-4])\n",
    "        #print(float(max_values[idx]))\n",
    "    \n",
    "        file = open(sn_names[k])\n",
    "        lines = file.readlines()\n",
    "        file.close()\n",
    "\n",
    "        xtemp = []\n",
    "\n",
    "        for line in lines:\n",
    "\n",
    "            if line.startswith('#'): continue\n",
    "            co=line.rstrip().replace('INDEF','Nan').split()\n",
    "\n",
    "            xtemp.append(co[0])\n",
    "\n",
    "        xtemp = np.array(xtemp, dtype=float)\n",
    "        \n",
    "        xtemp = xtemp*float(max_values[idx])\n",
    "        \n",
    "\n",
    "        #xtemp = xtemp/max(xtemp)\n",
    "        \n",
    "        \n",
    "\n",
    "        if max(xtemp) < 100000:\n",
    "            \n",
    "            new_names.append(sn_names[k])\n",
    "            z = np.reshape(xtemp, (601, 61))\n",
    "\n",
    "            zz = []\n",
    "            xx = []\n",
    "            yy = []\n",
    "\n",
    "            for i in range(0,len(y)):\n",
    "\n",
    "                for j in range(0,len(x)):\n",
    "\n",
    "                    zz.append(z[i][j])\n",
    "                    xx.append(x[j])\n",
    "                    yy.append(y[i])\n",
    "\n",
    "            X.append(np.array(zz))\n"
   ]
  },
  {
   "cell_type": "code",
   "execution_count": 11,
   "metadata": {},
   "outputs": [
    {
     "data": {
      "text/plain": [
       "95"
      ]
     },
     "execution_count": 11,
     "metadata": {},
     "output_type": "execute_result"
    }
   ],
   "source": [
    "len(X)"
   ]
  },
  {
   "cell_type": "code",
   "execution_count": 12,
   "metadata": {},
   "outputs": [],
   "source": [
    "import os.path"
   ]
  },
  {
   "cell_type": "code",
   "execution_count": 13,
   "metadata": {},
   "outputs": [],
   "source": [
    "x_grid = np.linspace(-10,50,61)\n",
    "y_grid = np.linspace(3000,9000,601)\n",
    "B1, B2 = np.meshgrid(x_grid, y_grid, indexing='xy')"
   ]
  },
  {
   "cell_type": "code",
   "execution_count": 14,
   "metadata": {},
   "outputs": [],
   "source": [
    "med = []\n",
    "sec_mom = []\n",
    "th_mom = []\n",
    "four_mom = []"
   ]
  },
  {
   "cell_type": "code",
   "execution_count": 15,
   "metadata": {},
   "outputs": [],
   "source": [
    "from scipy.stats import skew"
   ]
  },
  {
   "cell_type": "code",
   "execution_count": 16,
   "metadata": {},
   "outputs": [],
   "source": [
    "save_path = '/home/joao/Documentos'"
   ]
  },
  {
   "cell_type": "code",
   "execution_count": 17,
   "metadata": {},
   "outputs": [],
   "source": [
    "for i in range(0,len(X[0])):\n",
    "    \n",
    "    templist_0 = []\n",
    "    templist = []\n",
    "    #templist2 = []\n",
    "    count = 0\n",
    "    count_2 = 0\n",
    "    for j in range(0,len(X)):\n",
    "        \n",
    "        if X[j][i] > 0:\n",
    "            \n",
    "            templist_0.append(X[j][i])\n",
    "            count += 1\n",
    "    '''\n",
    "    if count > 5:\n",
    "        \n",
    "        for h in range(0, len(templist_0)):\n",
    "\n",
    "            if np.mean(templist_0) - np.sqrt(np.var(templist_0)) < templist_0[h] < np.mean(templist_0) + np.sqrt(np.var(templist_0)):\n",
    "\n",
    "                templist.append(templist_0[h])\n",
    "\n",
    "                count_2 += 1\n",
    "    '''\n",
    "    if count > 5:\n",
    "\n",
    "        media = np.mean(templist_0)\n",
    "        mom_2 = 0\n",
    "        mom_3 = 0\n",
    "        mom_4 = 0\n",
    "        for k in range(0, len(templist_0)):\n",
    "\n",
    "            mom_2 += (templist_0[k] - media)**2\n",
    "            mom_3 += (templist_0[k] - media)**3\n",
    "            mom_4 += (templist_0[k] - media)**4\n",
    "\n",
    "\n",
    "        #variance = np.var(templist)\n",
    "        med.append(media)\n",
    "        sec_mom.append(mom_2/count)\n",
    "        th_mom.append(mom_3/count)\n",
    "        four_mom.append(mom_4/count)\n",
    "\n",
    "    else:\n",
    "\n",
    "        med.append(0)\n",
    "        sec_mom.append(0)\n",
    "        th_mom.append(0)\n",
    "        four_mom.append(0)\n"
   ]
  },
  {
   "cell_type": "code",
   "execution_count": 18,
   "metadata": {},
   "outputs": [],
   "source": [
    "from sklearn.gaussian_process import GaussianProcessRegressor\n",
    "from sklearn.gaussian_process.kernels import RBF, WhiteKernel"
   ]
  },
  {
   "cell_type": "code",
   "execution_count": 19,
   "metadata": {},
   "outputs": [],
   "source": [
    "kernel = 0.5 * (RBF(length_scale=5, length_scale_bounds=(1, 10)) + WhiteKernel(noise_level=0.1, noise_level_bounds=(1e-5,0.5)))"
   ]
  },
  {
   "cell_type": "code",
   "execution_count": 20,
   "metadata": {},
   "outputs": [],
   "source": [
    "z = np.reshape(med, (601, 61))\n",
    "\n",
    "exp_x = []\n",
    "exp_y = []\n",
    "exp_z = []\n",
    "\n",
    "for i in range(0,len(y)):\n",
    "\n",
    "    for j in range(0,len(x)):\n",
    "\n",
    "        exp_z.append(z[i][j])\n",
    "        exp_x.append(x[j])\n",
    "        exp_y.append(y[i])\n"
   ]
  },
  {
   "cell_type": "code",
   "execution_count": 21,
   "metadata": {},
   "outputs": [],
   "source": [
    "list_data = []\n",
    "for j in range(0, len(y)):\n",
    "    \n",
    "    temp_x = []\n",
    "    temp_z = []\n",
    "    \n",
    "    for i in range(0, len(exp_y)):\n",
    "\n",
    "        if exp_y[i] == y[j]:\n",
    "\n",
    "            temp_x.append([exp_x[i]])\n",
    "            temp_z.append(exp_z[i])\n",
    "            \n",
    "    gp = GaussianProcessRegressor(kernel = kernel, alpha=0.0).fit(temp_x, temp_z)        \n",
    "    y_mean = gp.predict(x[:, np.newaxis])     \n",
    "    \n",
    "    list_data.append(y_mean)"
   ]
  },
  {
   "cell_type": "code",
   "execution_count": 22,
   "metadata": {},
   "outputs": [],
   "source": [
    "temp_x = []\n",
    "temp_y = []\n",
    "temp_z = []\n",
    "\n",
    "for i in range(0, len(x)):\n",
    "    \n",
    "    for j in range(0, len(y)):\n",
    "        \n",
    "        temp_x.append(x[i])\n",
    "        temp_y.append(y[j])\n",
    "        temp_z.append(list_data[j][i])"
   ]
  },
  {
   "cell_type": "code",
   "execution_count": 23,
   "metadata": {},
   "outputs": [],
   "source": [
    "table = []\n",
    "for l in range(0,len(temp_x)):\n",
    "    table.append((temp_x[l],temp_y[l],temp_z[l]))\n",
    "\n",
    "\n",
    "completeName = os.path.join(save_path, \"med.dat\")\n",
    "\n",
    "f = open(completeName, 'w')\n",
    "f.write(tabulate(table, tablefmt=\"plain\"))\n",
    "f.close()"
   ]
  },
  {
   "cell_type": "code",
   "execution_count": 24,
   "metadata": {},
   "outputs": [],
   "source": [
    "z = np.reshape(sec_mom, (601, 61))\n",
    "\n",
    "exp_x = []\n",
    "exp_y = []\n",
    "exp_z = []\n",
    "\n",
    "for i in range(0,len(y)):\n",
    "\n",
    "    for j in range(0,len(x)):\n",
    "\n",
    "        exp_z.append(z[i][j])\n",
    "        exp_x.append(x[j])\n",
    "        exp_y.append(y[i])\n"
   ]
  },
  {
   "cell_type": "code",
   "execution_count": 25,
   "metadata": {},
   "outputs": [],
   "source": [
    "list_data = []\n",
    "for j in range(0, len(y)):\n",
    "    \n",
    "    temp_x = []\n",
    "    temp_z = []\n",
    "    \n",
    "    for i in range(0, len(exp_y)):\n",
    "\n",
    "        if exp_y[i] == y[j]:\n",
    "\n",
    "            temp_x.append([exp_x[i]])\n",
    "            temp_z.append(exp_z[i])\n",
    "            \n",
    "    gp = GaussianProcessRegressor(kernel = kernel, alpha=0.0).fit(temp_x, temp_z)        \n",
    "    y_mean = gp.predict(x[:, np.newaxis])     \n",
    "    \n",
    "    list_data.append(y_mean)"
   ]
  },
  {
   "cell_type": "code",
   "execution_count": 26,
   "metadata": {},
   "outputs": [],
   "source": [
    "temp_x = []\n",
    "temp_y = []\n",
    "temp_z = []\n",
    "\n",
    "for i in range(0, len(x)):\n",
    "    \n",
    "    for j in range(0, len(y)):\n",
    "        \n",
    "        temp_x.append(x[i])\n",
    "        temp_y.append(y[j])\n",
    "        temp_z.append(list_data[j][i])"
   ]
  },
  {
   "cell_type": "code",
   "execution_count": 27,
   "metadata": {},
   "outputs": [],
   "source": [
    "table = []\n",
    "for l in range(0,len(temp_x)):\n",
    "    table.append((temp_x[l],temp_y[l],temp_z[l]))\n",
    "\n",
    "\n",
    "completeName = os.path.join(save_path, \"sec_mom.dat\")\n",
    "\n",
    "f = open(completeName, 'w')\n",
    "f.write(tabulate(table, tablefmt=\"plain\"))\n",
    "f.close()"
   ]
  },
  {
   "cell_type": "code",
   "execution_count": 28,
   "metadata": {},
   "outputs": [],
   "source": [
    "z = np.reshape(th_mom, (601, 61))\n",
    "\n",
    "exp_x = []\n",
    "exp_y = []\n",
    "exp_z = []\n",
    "\n",
    "for i in range(0,len(y)):\n",
    "\n",
    "    for j in range(0,len(x)):\n",
    "\n",
    "        exp_z.append(z[i][j])\n",
    "        exp_x.append(x[j])\n",
    "        exp_y.append(y[i])\n"
   ]
  },
  {
   "cell_type": "code",
   "execution_count": 29,
   "metadata": {},
   "outputs": [],
   "source": [
    "list_data = []\n",
    "for j in range(0, len(y)):\n",
    "    \n",
    "    temp_x = []\n",
    "    temp_z = []\n",
    "    \n",
    "    for i in range(0, len(exp_y)):\n",
    "\n",
    "        if exp_y[i] == y[j]:\n",
    "\n",
    "            temp_x.append([exp_x[i]])\n",
    "            temp_z.append(exp_z[i])\n",
    "            \n",
    "    gp = GaussianProcessRegressor(kernel = kernel, alpha=0.0).fit(temp_x, temp_z)        \n",
    "    y_mean = gp.predict(x[:, np.newaxis])     \n",
    "    \n",
    "    list_data.append(y_mean)"
   ]
  },
  {
   "cell_type": "code",
   "execution_count": 30,
   "metadata": {},
   "outputs": [],
   "source": [
    "temp_x = []\n",
    "temp_y = []\n",
    "temp_z = []\n",
    "\n",
    "for i in range(0, len(x)):\n",
    "    \n",
    "    for j in range(0, len(y)):\n",
    "        \n",
    "        temp_x.append(x[i])\n",
    "        temp_y.append(y[j])\n",
    "        temp_z.append(list_data[j][i])"
   ]
  },
  {
   "cell_type": "code",
   "execution_count": 31,
   "metadata": {},
   "outputs": [],
   "source": [
    "table = []\n",
    "for l in range(0,len(temp_x)):\n",
    "    table.append((temp_x[l],temp_y[l],temp_z[l]))\n",
    "\n",
    "\n",
    "completeName = os.path.join(save_path, \"th_mom.dat\")\n",
    "\n",
    "f = open(completeName, 'w')\n",
    "f.write(tabulate(table, tablefmt=\"plain\"))\n",
    "f.close()"
   ]
  }
 ],
 "metadata": {
  "kernelspec": {
   "display_name": "Python 3",
   "language": "python",
   "name": "python3"
  },
  "language_info": {
   "codemirror_mode": {
    "name": "ipython",
    "version": 3
   },
   "file_extension": ".py",
   "mimetype": "text/x-python",
   "name": "python",
   "nbconvert_exporter": "python",
   "pygments_lexer": "ipython3",
   "version": "3.8.2"
  }
 },
 "nbformat": 4,
 "nbformat_minor": 4
}
