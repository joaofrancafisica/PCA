{
 "cells": [
  {
   "cell_type": "code",
   "execution_count": 1,
   "metadata": {},
   "outputs": [],
   "source": [
    "import scipy as sp\n",
    "import scipy.interpolate\n",
    "import numpy as np\n",
    "import glob\n",
    "from tabulate import tabulate #to export in table format\n",
    "import scipy.interpolate as interp"
   ]
  },
  {
   "cell_type": "code",
   "execution_count": 2,
   "metadata": {},
   "outputs": [
    {
     "name": "stdout",
     "output_type": "stream",
     "text": [
      "109\n"
     ]
    }
   ],
   "source": [
    "sn_names=glob.glob(\"*.dat\")\n",
    "print(len(sn_names))"
   ]
  },
  {
   "cell_type": "code",
   "execution_count": 3,
   "metadata": {},
   "outputs": [],
   "source": [
    "file = open(\"factors.txt\")\n",
    "lines = file.readlines()\n",
    "file.close()"
   ]
  },
  {
   "cell_type": "code",
   "execution_count": 4,
   "metadata": {},
   "outputs": [],
   "source": [
    "max_names = []\n",
    "max_values = []"
   ]
  },
  {
   "cell_type": "code",
   "execution_count": 5,
   "metadata": {},
   "outputs": [],
   "source": [
    "for line in lines:\n",
    "    if line.startswith('#'): continue\n",
    "    co=line.rstrip().replace('INDEF','Nan').split()\n",
    "\n",
    "    max_names.append(co[0])\n",
    "    max_values.append(co[1])"
   ]
  },
  {
   "cell_type": "code",
   "execution_count": 6,
   "metadata": {},
   "outputs": [],
   "source": [
    "new_names = []"
   ]
  },
  {
   "cell_type": "code",
   "execution_count": 7,
   "metadata": {},
   "outputs": [],
   "source": [
    "x = np.linspace(-10,50,61)\n",
    "y = np.linspace(3000,9000,601)"
   ]
  },
  {
   "cell_type": "code",
   "execution_count": 8,
   "metadata": {},
   "outputs": [],
   "source": [
    "X = []"
   ]
  },
  {
   "cell_type": "code",
   "execution_count": 9,
   "metadata": {},
   "outputs": [],
   "source": [
    "for k in range(0,len(sn_names)):\n",
    "    \n",
    "    if sn_names[k][:-4] in max_names:\n",
    "        \n",
    "        idx = max_names.index(sn_names[k][:-4])\n",
    "        #print(float(max_values[idx]))\n",
    "    \n",
    "        file = open(sn_names[k])\n",
    "        lines = file.readlines()\n",
    "        file.close()\n",
    "\n",
    "        xtemp = []\n",
    "\n",
    "        for line in lines:\n",
    "\n",
    "            if line.startswith('#'): continue\n",
    "            co=line.rstrip().replace('INDEF','Nan').split()\n",
    "\n",
    "            xtemp.append(co[0])\n",
    "\n",
    "        xtemp = np.array(xtemp, dtype=float)\n",
    "        \n",
    "        xtemp = xtemp*float(max_values[idx])\n",
    "        \n",
    "\n",
    "        #xtemp = xtemp/max(xtemp)\n",
    "        \n",
    "        \n",
    "\n",
    "        if max(xtemp) < 10000000000:\n",
    "            \n",
    "            new_names.append(sn_names[k])\n",
    "            z = np.reshape(xtemp, (601, 61))\n",
    "\n",
    "            zz = []\n",
    "            xx = []\n",
    "            yy = []\n",
    "\n",
    "            for i in range(0,len(y)):\n",
    "\n",
    "                for j in range(0,len(x)):\n",
    "\n",
    "                    zz.append(z[i][j])\n",
    "                    xx.append(x[j])\n",
    "                    yy.append(y[i])\n",
    "\n",
    "            X.append(np.array(zz))\n"
   ]
  },
  {
   "cell_type": "code",
   "execution_count": 10,
   "metadata": {},
   "outputs": [],
   "source": [
    "import os.path"
   ]
  },
  {
   "cell_type": "code",
   "execution_count": 11,
   "metadata": {},
   "outputs": [],
   "source": [
    "x_grid = np.linspace(-10,50,61)\n",
    "y_grid = np.linspace(3000,9000,601)\n",
    "B1, B2 = np.meshgrid(x_grid, y_grid, indexing='xy')"
   ]
  },
  {
   "cell_type": "code",
   "execution_count": 12,
   "metadata": {},
   "outputs": [],
   "source": [
    "med = []\n",
    "var = []\n",
    "sky = []"
   ]
  },
  {
   "cell_type": "code",
   "execution_count": 13,
   "metadata": {},
   "outputs": [],
   "source": [
    "from scipy.stats import skew"
   ]
  },
  {
   "cell_type": "code",
   "execution_count": 14,
   "metadata": {},
   "outputs": [],
   "source": [
    "save_path = '/home/joao/Documentos'"
   ]
  },
  {
   "cell_type": "code",
   "execution_count": 15,
   "metadata": {},
   "outputs": [],
   "source": [
    "for i in range(0,len(X[0])):\n",
    "    \n",
    "    templist = []\n",
    "    #templist2 = []\n",
    "    count = 0\n",
    "    for j in range(0,len(X)):\n",
    "        \n",
    "        if X[j][i] > 0:\n",
    "            \n",
    "            templist.append(X[j][i])\n",
    "            count += 1\n",
    "    \n",
    "    if count > 5:\n",
    "        \n",
    "        variance = np.var(templist)\n",
    "        med.append(np.mean(templist))\n",
    "        var.append(variance)\n",
    "        sky.append(skew(templist)*(np.sqrt(variance))**3)\n",
    "        \n",
    "    else:\n",
    "        \n",
    "        med.append(0)\n",
    "        var.append(0)\n",
    "        sky.append(0)"
   ]
  },
  {
   "cell_type": "code",
   "execution_count": 16,
   "metadata": {},
   "outputs": [],
   "source": [
    "Z = interp.griddata((xx,yy),med,(B1,B2),method='cubic')"
   ]
  },
  {
   "cell_type": "code",
   "execution_count": 17,
   "metadata": {},
   "outputs": [],
   "source": [
    "teste = Z.transpose()"
   ]
  },
  {
   "cell_type": "code",
   "execution_count": 18,
   "metadata": {},
   "outputs": [],
   "source": [
    "exp_x = []\n",
    "exp_y = []\n",
    "exp_z = []\n",
    "\n",
    "for i in range(0,len(x)):\n",
    "    \n",
    "    for j in range(0,len(y)):\n",
    "        \n",
    "        exp_x.append(x[i])\n",
    "        exp_y.append(y[j])\n",
    "        exp_z.append(teste[i][j])\n",
    "        "
   ]
  },
  {
   "cell_type": "code",
   "execution_count": 19,
   "metadata": {},
   "outputs": [],
   "source": [
    "table = []\n",
    "for l in range(0,len(exp_x)):\n",
    "    table.append((exp_x[l],exp_y[l],exp_z[l]))\n",
    "\n",
    "\n",
    "completeName = os.path.join(save_path, \"med.dat\")\n",
    "\n",
    "f = open(completeName, 'w')\n",
    "f.write(tabulate(table, tablefmt=\"plain\"))\n",
    "f.close()"
   ]
  },
  {
   "cell_type": "code",
   "execution_count": 20,
   "metadata": {},
   "outputs": [],
   "source": [
    "Z = interp.griddata((xx,yy),var,(B1,B2),method='cubic')"
   ]
  },
  {
   "cell_type": "code",
   "execution_count": 21,
   "metadata": {},
   "outputs": [],
   "source": [
    "teste = Z.transpose()"
   ]
  },
  {
   "cell_type": "code",
   "execution_count": 22,
   "metadata": {},
   "outputs": [],
   "source": [
    "exp_x = []\n",
    "exp_y = []\n",
    "exp_z = []\n",
    "\n",
    "for i in range(0,len(x)):\n",
    "    \n",
    "    for j in range(0,len(y)):\n",
    "        \n",
    "        exp_x.append(x[i])\n",
    "        exp_y.append(y[j])\n",
    "        exp_z.append(teste[i][j])\n",
    "        "
   ]
  },
  {
   "cell_type": "code",
   "execution_count": 23,
   "metadata": {},
   "outputs": [],
   "source": [
    "table = []\n",
    "for l in range(0,len(exp_x)):\n",
    "    table.append((exp_x[l],exp_y[l],exp_z[l]))\n",
    "\n",
    "\n",
    "completeName = os.path.join(save_path, \"var.dat\")\n",
    "\n",
    "f = open(completeName, 'w')\n",
    "f.write(tabulate(table, tablefmt=\"plain\"))\n",
    "f.close()\n"
   ]
  },
  {
   "cell_type": "code",
   "execution_count": 24,
   "metadata": {},
   "outputs": [],
   "source": [
    "Z = interp.griddata((xx,yy),sky,(B1,B2),method='cubic')"
   ]
  },
  {
   "cell_type": "code",
   "execution_count": 25,
   "metadata": {},
   "outputs": [],
   "source": [
    "teste = Z.transpose()"
   ]
  },
  {
   "cell_type": "code",
   "execution_count": 26,
   "metadata": {},
   "outputs": [],
   "source": [
    "exp_x = []\n",
    "exp_y = []\n",
    "exp_z = []\n",
    "\n",
    "for i in range(0,len(x)):\n",
    "    \n",
    "    for j in range(0,len(y)):\n",
    "        \n",
    "        exp_x.append(x[i])\n",
    "        exp_y.append(y[j])\n",
    "        exp_z.append(teste[i][j])\n",
    "        "
   ]
  },
  {
   "cell_type": "code",
   "execution_count": 27,
   "metadata": {},
   "outputs": [],
   "source": [
    "table = []\n",
    "for l in range(0,len(exp_x)):\n",
    "    table.append((exp_x[l],exp_y[l],exp_z[l]))\n",
    "\n",
    "\n",
    "completeName = os.path.join(save_path, \"sky.dat\")\n",
    "\n",
    "f = open(completeName, 'w')\n",
    "f.write(tabulate(table, tablefmt=\"plain\"))\n",
    "f.close()\n"
   ]
  }
 ],
 "metadata": {
  "kernelspec": {
   "display_name": "Python 3",
   "language": "python",
   "name": "python3"
  },
  "language_info": {
   "codemirror_mode": {
    "name": "ipython",
    "version": 3
   },
   "file_extension": ".py",
   "mimetype": "text/x-python",
   "name": "python",
   "nbconvert_exporter": "python",
   "pygments_lexer": "ipython3",
   "version": "3.8.2"
  }
 },
 "nbformat": 4,
 "nbformat_minor": 4
}
