{
 "cells": [
  {
   "cell_type": "code",
   "execution_count": null,
   "metadata": {},
   "outputs": [],
   "source": [
    "%matplotlib inline"
   ]
  },
  {
   "cell_type": "code",
   "execution_count": null,
   "metadata": {},
   "outputs": [],
   "source": [
    "import scipy as sp\n",
    "import scipy.interpolate\n",
    "import numpy as np\n",
    "import glob #to read the files\n",
    "from sklearn.decomposition import PCA\n",
    "from ipywidgets import *\n",
    "from tabulate import tabulate #to export in table format"
   ]
  },
  {
   "cell_type": "code",
   "execution_count": null,
   "metadata": {},
   "outputs": [],
   "source": [
    "x = np.linspace(-10,50,61)\n",
    "y = np.linspace(3000,9000,601)"
   ]
  },
  {
   "cell_type": "code",
   "execution_count": null,
   "metadata": {},
   "outputs": [],
   "source": [
    "sn_names=glob.glob(\"*.dat\")\n",
    "print(len(sn_names))"
   ]
  },
  {
   "cell_type": "code",
   "execution_count": null,
   "metadata": {},
   "outputs": [],
   "source": [
    "sn_names[0]"
   ]
  },
  {
   "cell_type": "code",
   "execution_count": null,
   "metadata": {},
   "outputs": [],
   "source": [
    "X = []"
   ]
  },
  {
   "cell_type": "code",
   "execution_count": null,
   "metadata": {},
   "outputs": [],
   "source": [
    "max_sup = []"
   ]
  },
  {
   "cell_type": "code",
   "execution_count": null,
   "metadata": {},
   "outputs": [],
   "source": [
    "file = open(\"factors.txt\")\n",
    "lines = file.readlines()\n",
    "file.close()"
   ]
  },
  {
   "cell_type": "code",
   "execution_count": null,
   "metadata": {},
   "outputs": [],
   "source": [
    "max_names = []\n",
    "max_values = []"
   ]
  },
  {
   "cell_type": "code",
   "execution_count": null,
   "metadata": {},
   "outputs": [],
   "source": [
    "ll = []"
   ]
  },
  {
   "cell_type": "code",
   "execution_count": null,
   "metadata": {},
   "outputs": [],
   "source": [
    "for line in lines:\n",
    "    if line.startswith('#'): continue\n",
    "    co=line.rstrip().replace('INDEF','Nan').split()\n",
    "\n",
    "    max_names.append(co[0])\n",
    "    max_values.append(co[1])"
   ]
  },
  {
   "cell_type": "code",
   "execution_count": null,
   "metadata": {},
   "outputs": [],
   "source": [
    "new_names = []"
   ]
  },
  {
   "cell_type": "code",
   "execution_count": null,
   "metadata": {},
   "outputs": [],
   "source": [
    "sort = []"
   ]
  },
  {
   "cell_type": "code",
   "execution_count": null,
   "metadata": {},
   "outputs": [],
   "source": [
    "for k in range(0,len(sn_names)):\n",
    "    \n",
    "    if sn_names[k][:-4] in max_names:\n",
    "        \n",
    "        idx = max_names.index(sn_names[k][:-4])\n",
    "        #print(float(max_values[idx]))\n",
    "    \n",
    "        file = open(sn_names[k])\n",
    "        lines = file.readlines()\n",
    "        file.close()\n",
    "\n",
    "        xtemp = []\n",
    "\n",
    "        for line in lines:\n",
    "\n",
    "            if line.startswith('#'): continue\n",
    "            co=line.rstrip().replace('INDEF','Nan').split()\n",
    "\n",
    "            xtemp.append(co[0])\n",
    "\n",
    "        xtemp = np.array(xtemp, dtype=float)\n",
    "        \n",
    "        xtemp = xtemp*float(max_values[idx])\n",
    "        \n",
    "\n",
    "        #xtemp = xtemp/max(xtemp)\n",
    "        \n",
    "        \n",
    "\n",
    "        if max(xtemp) < 1:\n",
    "            new_names.append(sn_names[k])\n",
    "            ll.append(max(xtemp))\n",
    "            z = np.reshape(xtemp, (601, 61))\n",
    "\n",
    "            zz = []\n",
    "            xx = []\n",
    "            yy = []\n",
    "\n",
    "            for i in range(0,len(y)):\n",
    "\n",
    "                for j in range(0,len(x)):\n",
    "\n",
    "                    zz.append(z[i][j])\n",
    "                    xx.append(x[j])\n",
    "                    yy.append(y[i])\n",
    "\n",
    "\n",
    "            sort.append(sn_names[k][:-4])\n",
    "\n",
    "            X.append(np.array(zz))\n"
   ]
  },
  {
   "cell_type": "code",
   "execution_count": null,
   "metadata": {},
   "outputs": [],
   "source": [
    "len(X)"
   ]
  },
  {
   "cell_type": "code",
   "execution_count": null,
   "metadata": {},
   "outputs": [],
   "source": [
    "import numpy as np\n",
    "import matplotlib.pyplot as plt\n",
    "\n",
    "%matplotlib notebook\n",
    "plt.hist(ll, bins=10)\n",
    "#plt.xlim(0,30)\n",
    "plt.xlabel(\"contagem/s\")\n",
    "plt.ylabel(\"# de max\")\n",
    "plt.show()"
   ]
  },
  {
   "cell_type": "code",
   "execution_count": null,
   "metadata": {},
   "outputs": [],
   "source": [
    "ll[7]"
   ]
  },
  {
   "cell_type": "code",
   "execution_count": null,
   "metadata": {
    "scrolled": true
   },
   "outputs": [],
   "source": [
    "ll"
   ]
  },
  {
   "cell_type": "code",
   "execution_count": null,
   "metadata": {},
   "outputs": [],
   "source": [
    "x[10]"
   ]
  },
  {
   "cell_type": "code",
   "execution_count": null,
   "metadata": {},
   "outputs": [],
   "source": [
    "len(X)"
   ]
  },
  {
   "cell_type": "code",
   "execution_count": null,
   "metadata": {},
   "outputs": [],
   "source": [
    "N = 3"
   ]
  },
  {
   "cell_type": "code",
   "execution_count": null,
   "metadata": {},
   "outputs": [],
   "source": [
    "from numpy.random import RandomState"
   ]
  },
  {
   "cell_type": "code",
   "execution_count": null,
   "metadata": {},
   "outputs": [],
   "source": [
    "rng = RandomState(0)\n",
    "\n",
    "pca = PCA(n_components=3, whiten=True, svd_solver = 'randomized')\n",
    "pca.fit(X)"
   ]
  },
  {
   "cell_type": "code",
   "execution_count": null,
   "metadata": {},
   "outputs": [],
   "source": [
    "pca.noise_variance_"
   ]
  },
  {
   "cell_type": "code",
   "execution_count": null,
   "metadata": {},
   "outputs": [],
   "source": [
    "%matplotlib inline\n",
    "import numpy as np\n",
    "import matplotlib.pyplot as plt\n",
    "\n",
    "plt.plot(np.cumsum(pca.explained_variance_ratio_))\n",
    "plt.xlabel('number of components')\n",
    "plt.ylabel('cumulative explained variance');"
   ]
  },
  {
   "cell_type": "code",
   "execution_count": null,
   "metadata": {},
   "outputs": [],
   "source": [
    "range(N)"
   ]
  },
  {
   "cell_type": "code",
   "execution_count": null,
   "metadata": {},
   "outputs": [],
   "source": [
    "%matplotlib inline\n",
    "plt.bar(np.linspace(1,N,N), pca.explained_variance_ratio_, alpha=1, align='center',label='individual explained variance')\n",
    "plt.xlabel(\"componentes\")\n",
    "plt.ylabel(\"%\")\n",
    "plt.show()"
   ]
  },
  {
   "cell_type": "markdown",
   "metadata": {},
   "source": [
    "## Soma das variancias relativas"
   ]
  },
  {
   "cell_type": "markdown",
   "metadata": {},
   "source": [
    "### primeira"
   ]
  },
  {
   "cell_type": "code",
   "execution_count": null,
   "metadata": {},
   "outputs": [],
   "source": [
    "pca.explained_variance_ratio_[0]"
   ]
  },
  {
   "cell_type": "markdown",
   "metadata": {},
   "source": [
    "### primeira e segunda"
   ]
  },
  {
   "cell_type": "code",
   "execution_count": null,
   "metadata": {},
   "outputs": [],
   "source": [
    "pca.explained_variance_ratio_[0]+pca.explained_variance_ratio_[1]"
   ]
  },
  {
   "cell_type": "markdown",
   "metadata": {},
   "source": [
    "### primeira, segunda e terceira"
   ]
  },
  {
   "cell_type": "code",
   "execution_count": null,
   "metadata": {},
   "outputs": [],
   "source": [
    "pca.explained_variance_ratio_[0]+pca.explained_variance_ratio_[1]+pca.explained_variance_ratio_[2]"
   ]
  },
  {
   "cell_type": "code",
   "execution_count": null,
   "metadata": {},
   "outputs": [],
   "source": [
    "'''\n",
    "fig, axes = plt.subplots(2, 2, figsize=(10, 6),\n",
    "                         subplot_kw={'xticks':[], 'yticks':[]},\n",
    "                         gridspec_kw=dict(hspace=0.1, wspace=0.1))\n",
    "for i, ax in enumerate(axes.flat):\n",
    "    ax.imshow(pca.components_[i].reshape(721, 71), cmap='bone',aspect='auto',interpolation = 'bilinear')\n",
    "'''"
   ]
  },
  {
   "cell_type": "code",
   "execution_count": null,
   "metadata": {},
   "outputs": [],
   "source": [
    "#pca = PCA(N).fit(X)\n",
    "components = pca.transform(X)\n",
    "projected = pca.inverse_transform(components)"
   ]
  },
  {
   "cell_type": "code",
   "execution_count": null,
   "metadata": {},
   "outputs": [],
   "source": [
    "pca.components_[0]"
   ]
  },
  {
   "cell_type": "code",
   "execution_count": null,
   "metadata": {},
   "outputs": [],
   "source": [
    "'''\n",
    "\n",
    "fig, ax = plt.subplots(2, 2, figsize=(10, 2.5),\n",
    "                       subplot_kw={'xticks':[], 'yticks':[]},\n",
    "                       gridspec_kw=dict(hspace=0.1, wspace=0.1))\n",
    "for i in range(2):\n",
    "    ax[0, i].imshow(X[i].reshape(721, 71), cmap='bone',aspect='auto',interpolation = 'bilinear')\n",
    "    ax[1, i].imshow(projected[i].reshape(721, 71), cmap='bone',aspect='auto',interpolation = 'bilinear')\n",
    "    \n",
    "ax[0, 0].set_ylabel('full-dim\\ninput')\n",
    "ax[1, 0].set_ylabel('25-dim\\nreconstruction');\n",
    "'''"
   ]
  },
  {
   "cell_type": "code",
   "execution_count": null,
   "metadata": {},
   "outputs": [],
   "source": [
    "#if max(xtemp) < 0.02:\n",
    "x_grid = np.linspace(-10,50,61)\n",
    "y_grid = np.linspace(3000,9000,601)\n",
    "B1, B2 = np.meshgrid(x_grid, y_grid, indexing='xy')"
   ]
  },
  {
   "cell_type": "markdown",
   "metadata": {},
   "source": [
    "# Media da distribuição realizada pelo pca"
   ]
  },
  {
   "cell_type": "code",
   "execution_count": null,
   "metadata": {
    "scrolled": false
   },
   "outputs": [],
   "source": [
    "import matplotlib.pyplot as plt\n",
    "from mpl_toolkits.mplot3d import axes3d\n",
    "import scipy.interpolate as interp\n",
    "\n",
    "%matplotlib notebook\n",
    "\n",
    "Z = interp.griddata((xx,yy),pca.mean_,(B1,B2),method='cubic')\n",
    "#Z = splinemean(B1, B2)\n",
    "fig = plt.figure(figsize=(10,6))\n",
    "ax = axes3d.Axes3D(fig)\n",
    "ax.plot_wireframe(B1, B2, Z)\n",
    "ax.plot_surface(B1, B2, Z,alpha=0.4)\n",
    "#ax.scatter3D(xx,yy,pca.components_[0], c='r')\n",
    "#ax3.set_xlim(3500, 7500)\n",
    "#ax3.set_ylim(-10, 50)\n",
    "#ax.set_zlim(0, max(pca.components_[1]))\n",
    "\n",
    "plt.show()"
   ]
  },
  {
   "cell_type": "markdown",
   "metadata": {},
   "source": [
    "# Componentes"
   ]
  },
  {
   "cell_type": "code",
   "execution_count": null,
   "metadata": {},
   "outputs": [],
   "source": [
    "optionslist = []\n",
    "\n",
    "for i in range(0,N):\n",
    "    \n",
    "    optionslist.append(i)"
   ]
  },
  {
   "cell_type": "code",
   "execution_count": null,
   "metadata": {
    "scrolled": false
   },
   "outputs": [],
   "source": [
    "import matplotlib.pyplot as plt\n",
    "from mpl_toolkits.mplot3d import axes3d\n",
    "import scipy.interpolate as interp\n",
    "\n",
    "%matplotlib notebook\n",
    "\n",
    "fig = plt.figure(figsize=(13,7.8))\n",
    "ax = axes3d.Axes3D(fig)\n",
    "\n",
    "def update_graph(i):\n",
    "    \n",
    "    ax.clear()\n",
    "    \n",
    "    Z = interp.griddata((xx,yy),pca.components_[i],(B1,B2),method='cubic')\n",
    "    #Z = splinemean(B1, B2)\n",
    "    #ax.scatter3D(xx,yy,pca.components_[i], c='r')\n",
    "    ax.plot_wireframe(B1, B2, Z)\n",
    "    ax.plot_surface(B1, B2, Z,alpha=0.4)\n",
    "    #ax.set_zlim([0, 0.04])\n",
    "    plt.show()\n",
    "    \n",
    "i = widgets.Dropdown(options=optionslist, value=0, description='Component:', disabled=False)\n",
    "\n",
    "widgets.interactive(update_graph,i = i)"
   ]
  },
  {
   "cell_type": "markdown",
   "metadata": {},
   "source": [
    "# Superficies com N componentes"
   ]
  },
  {
   "cell_type": "code",
   "execution_count": null,
   "metadata": {},
   "outputs": [],
   "source": [
    "optionslistsup = []\n",
    "\n",
    "for i in range(0,len(X)):\n",
    "    \n",
    "    optionslistsup.append(i)"
   ]
  },
  {
   "cell_type": "code",
   "execution_count": null,
   "metadata": {
    "scrolled": false
   },
   "outputs": [],
   "source": [
    "%matplotlib notebook\n",
    "\n",
    "fig = plt.figure(figsize=(13,7.8))\n",
    "ax = axes3d.Axes3D(fig)\n",
    "\n",
    "def update_graph(i):\n",
    "    \n",
    "    ax.clear()\n",
    "    \n",
    "    Z = interp.griddata((xx,yy),projected[i],(B1,B2),method='cubic')\n",
    "    #Z = splinemean(B1, B2)\n",
    "\n",
    "    ax.plot_wireframe(B1, B2, Z)\n",
    "    ax.plot_surface(B1, B2, Z,alpha=0.4)\n",
    "    plt.show()\n",
    "    \n",
    "    \n",
    "\n",
    "\n",
    "i = widgets.Dropdown(options=optionslistsup, value=0, description='Superficie:', disabled=False)\n",
    "\n",
    "widgets.interactive(update_graph,i = i)\n"
   ]
  },
  {
   "cell_type": "markdown",
   "metadata": {},
   "source": [
    "# Superficies originais"
   ]
  },
  {
   "cell_type": "code",
   "execution_count": null,
   "metadata": {},
   "outputs": [],
   "source": [
    "optionslistsupori = []\n",
    "\n",
    "for i in range(0,len(X)):\n",
    "    \n",
    "    optionslistsupori.append(i)"
   ]
  },
  {
   "cell_type": "code",
   "execution_count": null,
   "metadata": {
    "scrolled": false
   },
   "outputs": [],
   "source": [
    "%matplotlib notebook\n",
    "\n",
    "fig = plt.figure(figsize=(13,7.8))\n",
    "ax = axes3d.Axes3D(fig)\n",
    "\n",
    "def update_graph(i):\n",
    "    \n",
    "    ax.clear()\n",
    "    \n",
    "    Z = interp.griddata((xx,yy),X[i],(B1,B2),method='cubic')\n",
    "    #Z = splinemean(B1, B2)\n",
    "\n",
    "    ax.plot_wireframe(B1, B2, Z)\n",
    "    #ax.scatter3D(xx, yy, X[i], c='r')\n",
    "    ax.plot_surface(B1, B2, Z,alpha=0.4)\n",
    "    plt.show()\n",
    "    \n",
    "    \n",
    "\n",
    "\n",
    "i = widgets.Dropdown(options=optionslistsupori, value=0, description='Superficie:', disabled=False)\n",
    "\n",
    "widgets.interactive(update_graph,i = i)"
   ]
  },
  {
   "cell_type": "code",
   "execution_count": null,
   "metadata": {},
   "outputs": [],
   "source": [
    "new_names[7]"
   ]
  },
  {
   "cell_type": "code",
   "execution_count": null,
   "metadata": {},
   "outputs": [],
   "source": [
    "pca.components_[0]"
   ]
  },
  {
   "cell_type": "code",
   "execution_count": null,
   "metadata": {},
   "outputs": [],
   "source": [
    "len(pca.components_[0])"
   ]
  },
  {
   "cell_type": "code",
   "execution_count": null,
   "metadata": {},
   "outputs": [],
   "source": [
    "Z = interp.griddata((xx,yy),pca.components_[0],(B1,B2),method='cubic')"
   ]
  },
  {
   "cell_type": "code",
   "execution_count": null,
   "metadata": {},
   "outputs": [],
   "source": [
    "len(Z)"
   ]
  },
  {
   "cell_type": "code",
   "execution_count": null,
   "metadata": {},
   "outputs": [],
   "source": [
    "teste = Z.transpose()"
   ]
  },
  {
   "cell_type": "code",
   "execution_count": null,
   "metadata": {},
   "outputs": [],
   "source": [
    "len(teste)"
   ]
  },
  {
   "cell_type": "code",
   "execution_count": null,
   "metadata": {},
   "outputs": [],
   "source": [
    "exp_x = []\n",
    "exp_y = []\n",
    "exp_z = []\n",
    "\n",
    "for i in range(0,len(x)):\n",
    "    \n",
    "    for j in range(0,len(y)):\n",
    "        \n",
    "        exp_x.append(x[i])\n",
    "        exp_y.append(y[j])\n",
    "        exp_z.append(teste[i][j])\n",
    "        "
   ]
  },
  {
   "cell_type": "code",
   "execution_count": null,
   "metadata": {},
   "outputs": [],
   "source": [
    "save_path = '/home/joao/Documentos'"
   ]
  },
  {
   "cell_type": "code",
   "execution_count": null,
   "metadata": {},
   "outputs": [],
   "source": [
    "\n",
    "table = []\n",
    "for l in range(0,len(exp_x)):\n",
    "    table.append((exp_x[l],exp_y[l],exp_z[l]))\n",
    "\n",
    "\n",
    "completeName = os.path.join(save_path, \"M0.dat\")\n",
    "\n",
    "f = open(completeName, 'w')\n",
    "f.write(tabulate(table, tablefmt=\"plain\"))\n",
    "f.close()\n"
   ]
  },
  {
   "cell_type": "code",
   "execution_count": null,
   "metadata": {},
   "outputs": [],
   "source": [
    "Z = interp.griddata((xx,yy),pca.components_[1],(B1,B2),method='cubic')"
   ]
  },
  {
   "cell_type": "code",
   "execution_count": null,
   "metadata": {},
   "outputs": [],
   "source": [
    "teste = Z.transpose()"
   ]
  },
  {
   "cell_type": "code",
   "execution_count": null,
   "metadata": {},
   "outputs": [],
   "source": [
    "exp_x = []\n",
    "exp_y = []\n",
    "exp_z = []\n",
    "\n",
    "for i in range(0,len(x)):\n",
    "    \n",
    "    for j in range(0,len(y)):\n",
    "        \n",
    "        exp_x.append(x[i])\n",
    "        exp_y.append(y[j])\n",
    "        exp_z.append(teste[i][j])"
   ]
  },
  {
   "cell_type": "code",
   "execution_count": null,
   "metadata": {},
   "outputs": [],
   "source": [
    "\n",
    "table = []\n",
    "for l in range(0,len(exp_x)):\n",
    "    table.append((exp_x[l],exp_y[l],exp_z[l]))\n",
    "\n",
    "\n",
    "completeName = os.path.join(save_path, \"M1.dat\")\n",
    "\n",
    "f = open(completeName, 'w')\n",
    "f.write(tabulate(table, tablefmt=\"plain\"))\n",
    "f.close()\n"
   ]
  },
  {
   "cell_type": "code",
   "execution_count": null,
   "metadata": {},
   "outputs": [],
   "source": [
    "Z = interp.griddata((xx,yy),pca.components_[2],(B1,B2),method='cubic')"
   ]
  },
  {
   "cell_type": "code",
   "execution_count": null,
   "metadata": {},
   "outputs": [],
   "source": [
    "teste = Z.transpose()"
   ]
  },
  {
   "cell_type": "code",
   "execution_count": null,
   "metadata": {},
   "outputs": [],
   "source": [
    "exp_x = []\n",
    "exp_y = []\n",
    "exp_z = []\n",
    "\n",
    "for i in range(0,len(x)):\n",
    "    \n",
    "    for j in range(0,len(y)):\n",
    "        \n",
    "        exp_x.append(x[i])\n",
    "        exp_y.append(y[j])\n",
    "        exp_z.append(teste[i][j])"
   ]
  },
  {
   "cell_type": "code",
   "execution_count": null,
   "metadata": {},
   "outputs": [],
   "source": [
    "table = []\n",
    "for l in range(0,len(exp_x)):\n",
    "    table.append((exp_x[l],exp_y[l],exp_z[l]))\n",
    "\n",
    "\n",
    "completeName = os.path.join(save_path, \"M2.dat\")\n",
    "\n",
    "f = open(completeName, 'w')\n",
    "f.write(tabulate(table, tablefmt=\"plain\"))\n",
    "f.close()\n"
   ]
  },
  {
   "cell_type": "code",
   "execution_count": null,
   "metadata": {},
   "outputs": [],
   "source": [
    "'''\n",
    "arrays = [np.array(u) for u in X]\n",
    "\n",
    "from scipy.stats import skew\n",
    "\n",
    "\n",
    "med = [np.mean(k) for k in zip(*arrays)]\n",
    "var = [np.var(k) for k in zip(*arrays)]\n",
    "skewness = [skew(k) for k in zip(*arrays)]\n",
    "\n",
    "%matplotlib notebook\n",
    "\n",
    "Z = interp.griddata((xx,yy),med,(B1,B2),method='cubic')\n",
    "#Z = splinemean(B1, B2)\n",
    "fig = plt.figure(figsize=(10,6))\n",
    "ax = axes3d.Axes3D(fig)\n",
    "ax.plot_wireframe(B1, B2, Z)\n",
    "ax.plot_surface(B1, B2, Z,alpha=0.4)\n",
    "#ax.scatter3D(xx,yy,pca.components_[0], c='r')\n",
    "#ax3.set_xlim(3500, 7500)\n",
    "#ax3.set_ylim(-10, 50)\n",
    "#ax.set_zlim(0, max(pca.components_[1]))\n",
    "\n",
    "plt.show()\n",
    "\n",
    "Z = interp.griddata((xx,yy),skewness,(B1,B2),method='cubic')\n",
    "\n",
    "teste = Z.transpose()\n",
    "\n",
    "exp_x = []\n",
    "exp_y = []\n",
    "exp_z = []\n",
    "\n",
    "for i in range(0,len(x)):\n",
    "    \n",
    "    for j in range(0,len(y)):\n",
    "        \n",
    "        exp_x.append(x[i])\n",
    "        exp_y.append(y[j])\n",
    "        exp_z.append(teste[i][j])\n",
    "\n",
    "table = []\n",
    "for l in range(0,len(exp_x)):\n",
    "    table.append((exp_x[l],exp_y[l],exp_z[l]))\n",
    "\n",
    "\n",
    "completeName = os.path.join(save_path, \"M2mod.dat\")\n",
    "\n",
    "f = open(completeName, 'w')\n",
    "f.write(tabulate(table, tablefmt=\"plain\"))\n",
    "f.close()\n",
    "'''"
   ]
  },
  {
   "cell_type": "code",
   "execution_count": null,
   "metadata": {},
   "outputs": [],
   "source": [
    "density = []"
   ]
  },
  {
   "cell_type": "code",
   "execution_count": null,
   "metadata": {},
   "outputs": [],
   "source": [
    "for i in range(0,len(X[0])):\n",
    "    \n",
    "    count = 0\n",
    "    \n",
    "    for j in range(0,len(X)):\n",
    "        \n",
    "        if X[j][i] != 0:\n",
    "            \n",
    "            count += 1\n",
    "\n",
    "    density.append(count)"
   ]
  },
  {
   "cell_type": "code",
   "execution_count": null,
   "metadata": {},
   "outputs": [],
   "source": [
    "zd = np.reshape(density, (601, 61))"
   ]
  },
  {
   "cell_type": "code",
   "execution_count": null,
   "metadata": {},
   "outputs": [],
   "source": [
    "zzd = []\n",
    "xxd = []\n",
    "yyd = []\n",
    "\n",
    "for i in range(0,len(y)):\n",
    "\n",
    "    for j in range(0,len(x)):\n",
    "\n",
    "        zzd.append(zd[i][j])\n",
    "        xxd.append(x[j])\n",
    "        yyd.append(y[i])\n"
   ]
  },
  {
   "cell_type": "code",
   "execution_count": null,
   "metadata": {},
   "outputs": [],
   "source": [
    "import matplotlib.pyplot as plt\n",
    "import matplotlib.cm as cm\n",
    "%matplotlib notebook\n",
    "z = np.reshape(zzd, (601, 61)).T\n",
    "plt.imshow(z, extent=(np.amin(yyd), np.amax(yyd), np.amin(xxd), np.amax(xxd)), cmap=cm.viridis, aspect='auto', interpolation = 'bilinear')\n",
    "plt.colorbar()\n",
    "plt.clim(0,77)\n",
    "plt.xlabel('time (days)')\n",
    "plt.ylabel('wavelength ($\\AA$)')\n",
    "plt.savefig('densityplot.png')\n",
    "plt.show()"
   ]
  },
  {
   "cell_type": "code",
   "execution_count": null,
   "metadata": {},
   "outputs": [],
   "source": [
    "med = []\n",
    "var = []\n",
    "sky = []"
   ]
  },
  {
   "cell_type": "code",
   "execution_count": null,
   "metadata": {},
   "outputs": [],
   "source": [
    "from scipy.stats import skew"
   ]
  },
  {
   "cell_type": "code",
   "execution_count": null,
   "metadata": {},
   "outputs": [],
   "source": [
    "for i in range(0,len(X[0])):\n",
    "    \n",
    "    templist = []\n",
    "    \n",
    "    for j in range(0,len(X)):\n",
    "        \n",
    "        if X[j][i] != 0:\n",
    "            \n",
    "            templist.append(X[j][i])\n",
    "\n",
    "    \n",
    "    med.append(np.mean(templist))\n",
    "    var.append(np.var(templist))\n",
    "    sky.append(skew(templist))"
   ]
  },
  {
   "cell_type": "code",
   "execution_count": null,
   "metadata": {},
   "outputs": [],
   "source": [
    "len(X[0])"
   ]
  },
  {
   "cell_type": "code",
   "execution_count": null,
   "metadata": {},
   "outputs": [],
   "source": [
    "len(med)"
   ]
  },
  {
   "cell_type": "code",
   "execution_count": null,
   "metadata": {},
   "outputs": [],
   "source": [
    "z = np.reshape(med, (601, 61))\n",
    "\n",
    "zz = []\n",
    "xx = []\n",
    "yy = []\n",
    "\n",
    "for i in range(0,len(y)):\n",
    "\n",
    "    for j in range(0,len(x)):\n",
    "\n",
    "        zz.append(z[i][j])\n",
    "        xx.append(x[j])\n",
    "        yy.append(y[i])"
   ]
  },
  {
   "cell_type": "code",
   "execution_count": null,
   "metadata": {},
   "outputs": [],
   "source": [
    "table = []\n",
    "for l in range(0,len(zz)):\n",
    "    table.append((xx[l],yy[l],zz[l]))\n",
    "\n",
    "\n",
    "completeName = os.path.join(save_path, \"var.dat\")\n",
    "\n",
    "f = open(completeName, 'w')\n",
    "f.write(tabulate(table, tablefmt=\"plain\"))\n",
    "f.close()"
   ]
  },
  {
   "cell_type": "code",
   "execution_count": null,
   "metadata": {},
   "outputs": [],
   "source": []
  }
 ],
 "metadata": {
  "kernelspec": {
   "display_name": "Python 3",
   "language": "python",
   "name": "python3"
  },
  "language_info": {
   "codemirror_mode": {
    "name": "ipython",
    "version": 3
   },
   "file_extension": ".py",
   "mimetype": "text/x-python",
   "name": "python",
   "nbconvert_exporter": "python",
   "pygments_lexer": "ipython3",
   "version": "3.8.2"
  }
 },
 "nbformat": 4,
 "nbformat_minor": 2
}
