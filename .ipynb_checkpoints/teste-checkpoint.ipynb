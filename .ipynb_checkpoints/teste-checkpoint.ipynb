{
 "cells": [
  {
   "cell_type": "code",
   "execution_count": 1,
   "metadata": {},
   "outputs": [],
   "source": [
    "import glob #to read the files"
   ]
  },
  {
   "cell_type": "code",
   "execution_count": 3,
   "metadata": {},
   "outputs": [],
   "source": [
    "sn_names = glob.glob(\"*.dat\")"
   ]
  },
  {
   "cell_type": "code",
   "execution_count": 4,
   "metadata": {},
   "outputs": [
    {
     "data": {
      "text/plain": [
       "112"
      ]
     },
     "execution_count": 4,
     "metadata": {},
     "output_type": "execute_result"
    }
   ],
   "source": [
    "len(sn_names)"
   ]
  },
  {
   "cell_type": "code",
   "execution_count": 5,
   "metadata": {},
   "outputs": [],
   "source": [
    "file = open(\"factors.txt\")\n",
    "lines = file.readlines()\n",
    "file.close()\n",
    "\n",
    "facnames = []\n",
    "\n",
    "for line in lines:\n",
    "\n",
    "    if line.startswith('#'): continue\n",
    "    co=line.rstrip().replace('INDEF','Nan').split()\n",
    "\n",
    "    facnames.append(co[0])"
   ]
  },
  {
   "cell_type": "code",
   "execution_count": 7,
   "metadata": {},
   "outputs": [
    {
     "data": {
      "text/plain": [
       "82"
      ]
     },
     "execution_count": 7,
     "metadata": {},
     "output_type": "execute_result"
    }
   ],
   "source": [
    "len(facnames)"
   ]
  },
  {
   "cell_type": "code",
   "execution_count": 9,
   "metadata": {},
   "outputs": [
    {
     "data": {
      "text/plain": [
       "['SN2000cx',\n",
       " 'SN2001eh',\n",
       " 'SN1997bq',\n",
       " 'SN2003fa',\n",
       " 'SN2008bc',\n",
       " 'SN2005eu',\n",
       " 'SN2009D',\n",
       " 'SN2007ax',\n",
       " 'SN2006D',\n",
       " 'SN1999dq',\n",
       " 'SN1998bp',\n",
       " 'iPTF14bdn',\n",
       " 'ASASSN-14lp',\n",
       " 'SN2002fk',\n",
       " 'SN2003W',\n",
       " 'SN2008ia',\n",
       " 'SN1997br',\n",
       " 'SN2004gs',\n",
       " 'SN2009ad',\n",
       " 'SN2007F',\n",
       " 'SN2013dy',\n",
       " 'SN1999ac',\n",
       " 'SN2008ar',\n",
       " 'SN2002cs',\n",
       " 'SN2002cr',\n",
       " 'SN1997bp',\n",
       " 'SN2005ke',\n",
       " 'SN1996X',\n",
       " 'SN2005ki',\n",
       " 'SN2005cf',\n",
       " 'SN2006bt',\n",
       " 'SN2005el',\n",
       " 'SN1998dh',\n",
       " 'SN2007S',\n",
       " 'SN2004at',\n",
       " 'SN2000cn',\n",
       " 'SN2006S',\n",
       " 'SN1997E',\n",
       " 'SN2007bd',\n",
       " 'SN2000dk',\n",
       " 'SN1994ae',\n",
       " 'SN2005am',\n",
       " 'SN2002bo',\n",
       " 'SN2007on',\n",
       " 'SN2005hc',\n",
       " 'LSQ12gdj',\n",
       " 'SN2002de',\n",
       " 'SN2001bf',\n",
       " 'SN2015bp',\n",
       " 'SN1994D',\n",
       " 'SN2007qe',\n",
       " 'SN2002ha',\n",
       " 'iPTF13dge',\n",
       " 'SN2005na',\n",
       " 'SN1999by',\n",
       " 'SN1999aa',\n",
       " 'SN1998aq',\n",
       " 'SN2006ax',\n",
       " 'SN2002dp',\n",
       " 'SN2004ef',\n",
       " 'SN2012hr',\n",
       " 'SN2009Y',\n",
       " 'SN1995D',\n",
       " 'SN2004as',\n",
       " 'SN2002fb',\n",
       " 'SN2008Z',\n",
       " 'SN2012fr',\n",
       " 'SN2007af',\n",
       " 'SN2006cp',\n",
       " 'SN2007kk',\n",
       " 'SN2005M',\n",
       " 'SN2007hj',\n",
       " 'SN2003cq',\n",
       " 'SN2005kc',\n",
       " 'SN2001V',\n",
       " 'SN2006gr',\n",
       " 'SN2001cp',\n",
       " 'SN2003kf',\n",
       " 'SN2003du',\n",
       " 'SN2001ep',\n",
       " 'SN2006kf',\n",
       " 'SN2008bf']"
      ]
     },
     "execution_count": 9,
     "metadata": {},
     "output_type": "execute_result"
    }
   ],
   "source": [
    "[i for i in facnames if i not in sn_names]"
   ]
  },
  {
   "cell_type": "code",
   "execution_count": null,
   "metadata": {},
   "outputs": [],
   "source": []
  }
 ],
 "metadata": {
  "kernelspec": {
   "display_name": "Python 3",
   "language": "python",
   "name": "python3"
  },
  "language_info": {
   "codemirror_mode": {
    "name": "ipython",
    "version": 3
   },
   "file_extension": ".py",
   "mimetype": "text/x-python",
   "name": "python",
   "nbconvert_exporter": "python",
   "pygments_lexer": "ipython3",
   "version": "3.8.2"
  }
 },
 "nbformat": 4,
 "nbformat_minor": 2
}
