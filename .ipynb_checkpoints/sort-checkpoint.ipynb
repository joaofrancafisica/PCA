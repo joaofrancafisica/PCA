{
 "cells": [
  {
   "cell_type": "code",
   "execution_count": 1,
   "metadata": {},
   "outputs": [],
   "source": [
    "%matplotlib inline"
   ]
  },
  {
   "cell_type": "code",
   "execution_count": 2,
   "metadata": {},
   "outputs": [],
   "source": [
    "import scipy as sp\n",
    "import scipy.interpolate\n",
    "import numpy as np\n",
    "import glob #to read the files\n",
    "import random\n",
    "from sklearn.decomposition import PCA\n",
    "from ipywidgets import *\n",
    "from tabulate import tabulate #to export in table format\n"
   ]
  },
  {
   "cell_type": "code",
   "execution_count": 3,
   "metadata": {},
   "outputs": [],
   "source": [
    "x = np.linspace(-10,50,61)\n",
    "y = np.linspace(2000,9200,721)"
   ]
  },
  {
   "cell_type": "code",
   "execution_count": 4,
   "metadata": {},
   "outputs": [
    {
     "data": {
      "text/plain": [
       "<function TextIOWrapper.close()>"
      ]
     },
     "execution_count": 4,
     "metadata": {},
     "output_type": "execute_result"
    }
   ],
   "source": [
    "file = open(\"sort.txt\")\n",
    "lines = file.readlines()\n",
    "file.close"
   ]
  },
  {
   "cell_type": "code",
   "execution_count": 5,
   "metadata": {},
   "outputs": [],
   "source": [
    "sn_names = []"
   ]
  },
  {
   "cell_type": "code",
   "execution_count": 6,
   "metadata": {},
   "outputs": [],
   "source": [
    "for line in lines:\n",
    "    if line.startswith('#'): continue\n",
    "    co=line.rstrip().replace('INDEF','Nan').split()\n",
    "\n",
    "    sn_names.append(co[0])"
   ]
  },
  {
   "cell_type": "code",
   "execution_count": 7,
   "metadata": {},
   "outputs": [],
   "source": [
    "file = open(\"factors.txt\")\n",
    "lines = file.readlines()\n",
    "file.close()"
   ]
  },
  {
   "cell_type": "code",
   "execution_count": 8,
   "metadata": {},
   "outputs": [],
   "source": [
    "max_names = []\n",
    "max_values = []"
   ]
  },
  {
   "cell_type": "code",
   "execution_count": 9,
   "metadata": {},
   "outputs": [],
   "source": [
    "for line in lines:\n",
    "    if line.startswith('#'): continue\n",
    "    co=line.rstrip().replace('INDEF','Nan').split()\n",
    "\n",
    "    max_names.append(co[0])\n",
    "    max_values.append(co[1])"
   ]
  },
  {
   "cell_type": "code",
   "execution_count": 10,
   "metadata": {},
   "outputs": [],
   "source": [
    "new_names = []"
   ]
  },
  {
   "cell_type": "code",
   "execution_count": null,
   "metadata": {},
   "outputs": [],
   "source": []
  },
  {
   "cell_type": "code",
   "execution_count": 11,
   "metadata": {},
   "outputs": [],
   "source": [
    "histogram = []\n",
    "\n",
    "j = 5\n",
    "\n",
    "while j < 41:\n",
    "    \n",
    "    sort_names = []\n",
    "    \n",
    "    for i in range(0,50):\n",
    "\n",
    "        sort_names.append(random.sample(range(len(sn_names)), j))\n",
    "        \n",
    "    histogram.append(np.array(sort_names))\n",
    "        \n",
    "    j += 5"
   ]
  },
  {
   "cell_type": "code",
   "execution_count": 12,
   "metadata": {},
   "outputs": [
    {
     "data": {
      "text/plain": [
       "50"
      ]
     },
     "execution_count": 12,
     "metadata": {},
     "output_type": "execute_result"
    }
   ],
   "source": [
    "len(histogram[2])"
   ]
  },
  {
   "cell_type": "code",
   "execution_count": 13,
   "metadata": {},
   "outputs": [],
   "source": [
    "N = 3"
   ]
  },
  {
   "cell_type": "code",
   "execution_count": null,
   "metadata": {},
   "outputs": [],
   "source": []
  },
  {
   "cell_type": "code",
   "execution_count": 14,
   "metadata": {
    "scrolled": true
   },
   "outputs": [
    {
     "data": {
      "text/plain": [
       "['SN2003du',\n",
       " 'SN2011fe',\n",
       " 'SN2001V',\n",
       " 'SN2002cd',\n",
       " 'SN2002bo',\n",
       " 'SN2007F',\n",
       " 'SN2012fr',\n",
       " 'SN2008ar',\n",
       " 'SN2001ep',\n",
       " 'SN2005el',\n",
       " 'SN2000cx',\n",
       " 'SN1999aa',\n",
       " 'SN1995D',\n",
       " 'SN2006D',\n",
       " 'SN1998aq',\n",
       " 'SN2014J',\n",
       " 'SN2003fa',\n",
       " 'SN1996X',\n",
       " 'SN2005cf',\n",
       " 'SN2006lf',\n",
       " 'SN2003W',\n",
       " 'SN2007af',\n",
       " 'SN1999ac',\n",
       " 'SN2007le',\n",
       " 'SN2005bl',\n",
       " 'SN1994ae',\n",
       " 'SN2005am',\n",
       " 'SN2008s1',\n",
       " 'SN2009Y',\n",
       " 'SN2004dt',\n",
       " 'SN2008bf',\n",
       " 'SN2006X',\n",
       " 'SN2009dc',\n",
       " 'SN2007kk',\n",
       " 'SN2007hj',\n",
       " 'SN1994D',\n",
       " 'SN2007bm',\n",
       " 'SN2002fk',\n",
       " 'SN2003kf',\n",
       " 'SN2010ae',\n",
       " 'SN1999by',\n",
       " 'SN2008Z',\n",
       " 'SN2007on']"
      ]
     },
     "execution_count": 14,
     "metadata": {},
     "output_type": "execute_result"
    }
   ],
   "source": [
    "sn_names"
   ]
  },
  {
   "cell_type": "code",
   "execution_count": 15,
   "metadata": {},
   "outputs": [],
   "source": [
    "med = []"
   ]
  },
  {
   "cell_type": "code",
   "execution_count": 16,
   "metadata": {},
   "outputs": [
    {
     "name": "stdout",
     "output_type": "stream",
     "text": [
      "0\n",
      "1\n",
      "2\n",
      "3\n",
      "4\n",
      "5\n",
      "6\n",
      "7\n"
     ]
    }
   ],
   "source": [
    "for kkk in range(0,len(histogram)):\n",
    "    var = []\n",
    "    print(kkk)\n",
    "    for kk in range(0,len(histogram[kkk])):\n",
    "\n",
    "        X = []\n",
    "\n",
    "        #print(histogram[kkk][kk])\n",
    "\n",
    "        for k in range(0,len(histogram[kkk][kk])):\n",
    "            \n",
    "            #print(sn_names[sort_names[kk][k]])\n",
    "\n",
    "            #sn_names = sn_names[sort_names[kk][k]]\n",
    "\n",
    "            idx = max_names.index(sn_names[histogram[kkk][kk][k]])\n",
    "\n",
    "\n",
    "            #print(float(max_values[idx]))\n",
    "\n",
    "            file = open(sn_names[histogram[kkk][kk][k]]+\".dat\")\n",
    "            lines = file.readlines()\n",
    "            file.close()\n",
    "\n",
    "            xtemp = []\n",
    "\n",
    "            for line in lines:\n",
    "\n",
    "                if line.startswith('#'): continue\n",
    "                co=line.rstrip().replace('INDEF','Nan').split()\n",
    "\n",
    "                xtemp.append(co[0])\n",
    "\n",
    "            xtemp = np.array(xtemp, dtype=float)\n",
    "\n",
    "            xtemp = xtemp*float(max_values[idx])\n",
    "\n",
    "            #xtemp = xtemp/max(xtemp)\n",
    "            new_names.append(sn_names[histogram[kkk][kk][k]])\n",
    "\n",
    "            z = np.reshape(xtemp, (721, 61))\n",
    "\n",
    "            zz = []\n",
    "            xx = []\n",
    "            yy = []\n",
    "\n",
    "            for i in range(0,len(y)):\n",
    "\n",
    "                for j in range(0,len(x)):\n",
    "\n",
    "                    zz.append(z[i][j])\n",
    "                    xx.append(x[j])\n",
    "                    yy.append(y[i])\n",
    "\n",
    "            X.append(np.array(zz))\n",
    "\n",
    "        pca = PCA(N)\n",
    "        pca.fit(X)\n",
    "\n",
    "        var.append(pca.explained_variance_ratio_[0]+pca.explained_variance_ratio_[1]+pca.explained_variance_ratio_[2])\n",
    "\n",
    "    med.append(np.mean(var))"
   ]
  },
  {
   "cell_type": "code",
   "execution_count": 17,
   "metadata": {},
   "outputs": [
    {
     "data": {
      "text/plain": [
       "[0.9344381299469727,\n",
       " 0.7547995195108181,\n",
       " 0.6756978008541058,\n",
       " 0.6424826873745281,\n",
       " 0.6145117078338017,\n",
       " 0.606876877482603,\n",
       " 0.5900953113861133,\n",
       " 0.5823112857848947]"
      ]
     },
     "execution_count": 17,
     "metadata": {},
     "output_type": "execute_result"
    }
   ],
   "source": [
    "med"
   ]
  },
  {
   "cell_type": "code",
   "execution_count": null,
   "metadata": {},
   "outputs": [],
   "source": []
  }
 ],
 "metadata": {
  "kernelspec": {
   "display_name": "Python 3",
   "language": "python",
   "name": "python3"
  },
  "language_info": {
   "codemirror_mode": {
    "name": "ipython",
    "version": 3
   },
   "file_extension": ".py",
   "mimetype": "text/x-python",
   "name": "python",
   "nbconvert_exporter": "python",
   "pygments_lexer": "ipython3",
   "version": "3.6.9"
  }
 },
 "nbformat": 4,
 "nbformat_minor": 2
}
