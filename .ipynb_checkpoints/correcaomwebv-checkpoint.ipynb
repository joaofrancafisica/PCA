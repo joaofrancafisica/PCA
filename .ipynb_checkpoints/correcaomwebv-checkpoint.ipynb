{
 "cells": [
  {
   "cell_type": "code",
   "execution_count": 1,
   "metadata": {},
   "outputs": [],
   "source": [
    "import glob #to read the files\n",
    "import pandas as pd\n",
    "import numpy as np\n",
    "import extinction\n",
    "import json\n",
    "import os.path \n",
    "from tabulate import tabulate\n",
    "from astropy.time import Time #to time converting\n",
    "from astropy import units #time correction\n",
    "from astropy.coordinates import SkyCoord #time correction\n",
    "import math \n",
    "save_path = '/home/joao/Documents/pesquisa/PCA/supcommwebv/'\n",
    "%run /home/joao/Documents/pesquisa/templates/functions.ipynb"
   ]
  },
  {
   "cell_type": "code",
   "execution_count": 2,
   "metadata": {},
   "outputs": [
    {
     "name": "stdout",
     "output_type": "stream",
     "text": [
      "106\n"
     ]
    }
   ],
   "source": [
    "sn_names=glob.glob(\"*.dat\")\n",
    "print(len(sn_names))"
   ]
  },
  {
   "cell_type": "code",
   "execution_count": 3,
   "metadata": {},
   "outputs": [],
   "source": [
    "x = np.linspace(-10,50,61)\n",
    "y = np.linspace(3000,9000,601)"
   ]
  },
  {
   "cell_type": "code",
   "execution_count": 4,
   "metadata": {},
   "outputs": [],
   "source": [
    "file = open(\"factors.txt\")\n",
    "lines = file.readlines()\n",
    "file.close()\n",
    "\n",
    "max_names = []\n",
    "max_values = []\n",
    "\n",
    "for line in lines:\n",
    "    if line.startswith('#'): continue\n",
    "    co=line.rstrip().replace('INDEF','Nan').split()\n",
    "\n",
    "    max_names.append(co[0])\n",
    "    max_values.append(co[1])"
   ]
  },
  {
   "cell_type": "code",
   "execution_count": 5,
   "metadata": {},
   "outputs": [],
   "source": [
    "r_v = 3.1\n",
    "func = extinction.Fitzpatrick99(r_v)"
   ]
  },
  {
   "cell_type": "code",
   "execution_count": 6,
   "metadata": {
    "scrolled": true
   },
   "outputs": [
    {
     "name": "stdout",
     "output_type": "stream",
     "text": [
      "0.032156\n",
      "3\n",
      "0.01388\n",
      "4\n",
      "0.02077\n",
      "8\n",
      "0.02660272499077032\n",
      "11\n",
      "0.008\n",
      "12\n",
      "0.012946957105361312\n",
      "13\n",
      "0.007899\n",
      "25\n",
      "0.031003287895856158\n",
      "41\n",
      "0.016725\n",
      "46\n",
      "0.001458\n",
      "48\n",
      "0.006174\n",
      "50\n",
      "0.01306\n",
      "55\n",
      "0.006461\n",
      "56\n",
      "0.02197002237988821\n",
      "57\n",
      "0.0054\n",
      "58\n",
      "0.03\n",
      "60\n",
      "0.01512\n",
      "61\n",
      "0.009316\n",
      "62\n",
      "0.02629016098230008\n",
      "64\n",
      "0.005101\n",
      "66\n",
      "0.008529\n",
      "68\n",
      "0.012526589416171241\n",
      "69\n",
      "0.016317\n",
      "72\n",
      "0.02197499768617539\n",
      "73\n",
      "0.006494\n",
      "75\n",
      "0.015067397898713919\n",
      "76\n",
      "0.003889\n",
      "81\n",
      "0.01490009610926979\n",
      "83\n",
      "0.02129693315973835\n",
      "89\n",
      "0.005464\n",
      "90\n",
      "0.004069\n",
      "94\n",
      "0.01558\n",
      "99\n",
      "0.015854\n",
      "100\n",
      "0.0259\n",
      "103\n"
     ]
    }
   ],
   "source": [
    "for k in range(0, len(sn_names)):\n",
    "    \n",
    "    if sn_names[k][:-4] in max_names:\n",
    "        \n",
    "        idx = max_names.index(sn_names[k][:-4])\n",
    "        #print(float(max_values[idx]))\n",
    "    \n",
    "        file = open(sn_names[k])\n",
    "        lines = file.readlines()\n",
    "        file.close()\n",
    "\n",
    "        xtemp = []\n",
    "\n",
    "        for line in lines:\n",
    "\n",
    "            if line.startswith('#'): continue\n",
    "            co=line.rstrip().replace('INDEF','Nan').split()\n",
    "\n",
    "            xtemp.append(co[0])\n",
    "\n",
    "        xtemp = np.array(xtemp, dtype=float)\n",
    "        \n",
    "        xtemp = xtemp*float(max_values[idx])\n",
    "        \n",
    "\n",
    "        #xtemp = xtemp/max(xtemp)\n",
    "        \n",
    "        \n",
    "\n",
    "        if max(xtemp) < 10:\n",
    "            \n",
    "            z = np.reshape(xtemp, (601, 61))\n",
    "\n",
    "            zz = []\n",
    "            xx = []\n",
    "            yy = []\n",
    "\n",
    "            for i in range(0,len(y)):\n",
    "\n",
    "                for j in range(0,len(x)):\n",
    "\n",
    "                    zz.append(z[i][j])\n",
    "                    xx.append(x[j])\n",
    "                    yy.append(y[i])\n",
    "\n",
    "            \n",
    "            with open('/home/joao/Documents/pesquisa/templates/'+sn_names[k][:-4]+'.json', \"r\") as read_file:\n",
    "                data = json.load(read_file)\n",
    "                \n",
    "            mwebv = float(data[sn_names[k][:-4]]['ebv'][0]['value'])\n",
    "            \n",
    "            redshift = redshift_value(data[sn_names[k][:-4]])         \n",
    "            print(k)\n",
    "            \n",
    "            #print(max(zz))\n",
    "            zz = extinction.remove(func(np.array(yy)*(1+redshift), mwebv*r_v), np.array(zz))\n",
    "            \n",
    "            \n",
    "            table = []\n",
    "            for kk in range(0,len(xx)):\n",
    "                table.append((zz[kk], sn_names[k][:-4]))\n",
    "\n",
    "            name_of_file = sn_names[k][:-4]\n",
    "\n",
    "            completeName = os.path.join(save_path, name_of_file+\".dat\")\n",
    "\n",
    "            f = open(completeName, 'w')\n",
    "            f.write(tabulate(table, tablefmt=\"plain\"))\n",
    "            f.close()\n",
    "            "
   ]
  },
  {
   "cell_type": "code",
   "execution_count": 7,
   "metadata": {},
   "outputs": [
    {
     "data": {
      "text/plain": [
       "106"
      ]
     },
     "execution_count": 7,
     "metadata": {},
     "output_type": "execute_result"
    }
   ],
   "source": [
    "len(sn_names)"
   ]
  },
  {
   "cell_type": "code",
   "execution_count": 8,
   "metadata": {},
   "outputs": [
    {
     "data": {
      "text/plain": [
       "0.11895688634927437"
      ]
     },
     "execution_count": 8,
     "metadata": {},
     "output_type": "execute_result"
    }
   ],
   "source": [
    "max(zz)"
   ]
  },
  {
   "cell_type": "code",
   "execution_count": null,
   "metadata": {},
   "outputs": [],
   "source": []
  }
 ],
 "metadata": {
  "kernelspec": {
   "display_name": "Python 3",
   "language": "python",
   "name": "python3"
  },
  "language_info": {
   "codemirror_mode": {
    "name": "ipython",
    "version": 3
   },
   "file_extension": ".py",
   "mimetype": "text/x-python",
   "name": "python",
   "nbconvert_exporter": "python",
   "pygments_lexer": "ipython3",
   "version": "3.6.9"
  }
 },
 "nbformat": 4,
 "nbformat_minor": 4
}
