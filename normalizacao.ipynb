{
 "cells": [
  {
   "cell_type": "code",
   "execution_count": 1,
   "metadata": {},
   "outputs": [],
   "source": [
    "%matplotlib inline"
   ]
  },
  {
   "cell_type": "code",
   "execution_count": 2,
   "metadata": {},
   "outputs": [],
   "source": [
    "import scipy as sp\n",
    "import scipy.interpolate\n",
    "import numpy as np\n",
    "import glob #to read the files\n",
    "from sklearn.decomposition import PCA\n",
    "from ipywidgets import *\n",
    "from tabulate import tabulate #to export in table format\n",
    "from scipy import interpolate\n",
    "import scipy.interpolate as interp\n",
    "from scipy.integrate import quad\n",
    "import matplotlib.pyplot as plt\n",
    "from scipy.interpolate import interp1d\n",
    "import scipy.integrate as integrate\n",
    "from astropy import constants as const\n",
    "import sncosmo"
   ]
  },
  {
   "cell_type": "code",
   "execution_count": 3,
   "metadata": {},
   "outputs": [],
   "source": [
    "csp = sncosmo.get_magsystem('csp')\n",
    "Norm_V = (1/(csp.zpbandflux(\"cspv9844\")))\n",
    "Norm_r = (1/(csp.zpbandflux(\"cspr\")))"
   ]
  },
  {
   "cell_type": "code",
   "execution_count": 4,
   "metadata": {},
   "outputs": [],
   "source": [
    "filter_y_V = []\n",
    "filter_z_V = []"
   ]
  },
  {
   "cell_type": "code",
   "execution_count": 5,
   "metadata": {},
   "outputs": [],
   "source": [
    "file = open(\"V_tel_ccd_atm_ext_1.2.txt\")\n",
    "lines = file.readlines()\n",
    "file.close()"
   ]
  },
  {
   "cell_type": "code",
   "execution_count": 6,
   "metadata": {},
   "outputs": [],
   "source": [
    "for line in lines:\n",
    "\n",
    "    if line.startswith('#'): continue\n",
    "    co=line.rstrip().replace('INDEF','Nan').split()\n",
    "\n",
    "    filter_y_V.append(co[0])\n",
    "    filter_z_V.append(co[1])\n",
    "\n",
    "filter_y_V = np.array(filter_y_V, dtype=float)\n",
    "filter_z_V = np.array(filter_z_V, dtype=float)"
   ]
  },
  {
   "cell_type": "code",
   "execution_count": 7,
   "metadata": {},
   "outputs": [],
   "source": [
    "f_filter_V = interp1d(filter_y_V, filter_z_V)"
   ]
  },
  {
   "cell_type": "code",
   "execution_count": 8,
   "metadata": {},
   "outputs": [],
   "source": [
    "filter_y_r = []\n",
    "filter_z_r = []"
   ]
  },
  {
   "cell_type": "code",
   "execution_count": 9,
   "metadata": {},
   "outputs": [],
   "source": [
    "file = open(\"r_tel_ccd_atm_ext_1.2_new.txt\")\n",
    "lines = file.readlines()\n",
    "file.close()"
   ]
  },
  {
   "cell_type": "code",
   "execution_count": 10,
   "metadata": {},
   "outputs": [],
   "source": [
    "for line in lines:\n",
    "\n",
    "    if line.startswith('#'): continue\n",
    "    co=line.rstrip().replace('INDEF','Nan').split()\n",
    "\n",
    "    filter_y_r.append(co[0])\n",
    "    filter_z_r.append(co[1])\n",
    "\n",
    "filter_y_r = np.array(filter_y_r, dtype=float)\n",
    "filter_z_r = np.array(filter_z_r, dtype=float)"
   ]
  },
  {
   "cell_type": "code",
   "execution_count": 11,
   "metadata": {},
   "outputs": [],
   "source": [
    "f_filter_r = interp1d(filter_y_r, filter_z_r)"
   ]
  },
  {
   "cell_type": "code",
   "execution_count": 12,
   "metadata": {},
   "outputs": [],
   "source": [
    "x = np.linspace(-10,50,61)\n",
    "y = np.linspace(3000,9000,601)"
   ]
  },
  {
   "cell_type": "code",
   "execution_count": 13,
   "metadata": {},
   "outputs": [],
   "source": [
    "file = open(\"max_values.txt\")\n",
    "lines = file.readlines()\n",
    "file.close()\n",
    "\n",
    "snname = []\n",
    "maxvalueV = []\n",
    "maxvaluer = []\n",
    "\n",
    "for line in lines:\n",
    "\n",
    "    if line.startswith('#'): continue\n",
    "    co=line.rstrip().replace('INDEF','Nan').split()\n",
    "\n",
    "    snname.append(co[0])\n",
    "    maxvalueV.append(co[1])\n",
    "    maxvaluer.append(co[2])\n",
    "\n",
    "\n",
    "maxvalueV = np.array(maxvalueV, dtype=float)\n",
    "maxvaluer = np.array(maxvaluer, dtype=float)"
   ]
  },
  {
   "cell_type": "code",
   "execution_count": 14,
   "metadata": {},
   "outputs": [],
   "source": [
    "#for i in range(0,len(snname)):\n",
    "    \n",
    "#    snname[i] = snname[i][:-5]"
   ]
  },
  {
   "cell_type": "code",
   "execution_count": 15,
   "metadata": {},
   "outputs": [
    {
     "name": "stdout",
     "output_type": "stream",
     "text": [
      "113\n"
     ]
    }
   ],
   "source": [
    "sn_names=glob.glob(\"*.dat\")\n",
    "print(len(sn_names))"
   ]
  },
  {
   "cell_type": "code",
   "execution_count": 16,
   "metadata": {},
   "outputs": [],
   "source": [
    "for i in range(0,len(sn_names)):\n",
    "\n",
    "    sn_names[i] = sn_names[i][:-4]"
   ]
  },
  {
   "cell_type": "code",
   "execution_count": 17,
   "metadata": {},
   "outputs": [],
   "source": [
    "factorsV = []\n",
    "namesV = []"
   ]
  },
  {
   "cell_type": "code",
   "execution_count": 18,
   "metadata": {},
   "outputs": [],
   "source": [
    "factorsr = []\n",
    "namesr = []"
   ]
  },
  {
   "cell_type": "code",
   "execution_count": 19,
   "metadata": {},
   "outputs": [],
   "source": [
    "#hist = []"
   ]
  },
  {
   "cell_type": "code",
   "execution_count": 20,
   "metadata": {},
   "outputs": [],
   "source": [
    "#sn_names = [\"SN2012fr\"]"
   ]
  },
  {
   "cell_type": "code",
   "execution_count": 21,
   "metadata": {
    "scrolled": true
   },
   "outputs": [
    {
     "name": "stdout",
     "output_type": "stream",
     "text": [
      "SN2000cx\n",
      "SN2001ay\n",
      "SN2001eh\n",
      "SN1997bq\n",
      "SN2003fa\n",
      "SN2009ig\n",
      "nao ta na banda v\n",
      "SN2008bc\n",
      "SN2005eu\n",
      "SN2009D\n",
      "SN2007ax\n",
      "SN2006D\n",
      "SN1999dq\n",
      "SN1998bp\n",
      "iPTF14bdn\n",
      "ASASSN-14lp\n",
      "SN2002fk\n",
      "SN2003W\n",
      "SN2008ia\n",
      "SN1997br\n",
      "SN2004gs\n",
      "SN2009ad\n",
      "SN2007F\n",
      "SN2013dy\n",
      "SN1999ac\n",
      "SN2008ar\n",
      "SN2002cs\n",
      "SN2002cr\n",
      "SN1997bp\n",
      "2017hbi\n"
     ]
    },
    {
     "name": "stderr",
     "output_type": "stream",
     "text": [
      "<ipython-input-21-2decf5dabf5c>:86: IntegrationWarning: The maximum number of subdivisions (50) has been achieved.\n",
      "  If increasing the limit yields no improvement it is advised to analyze \n",
      "  the integrand in order to determine the difficulties.  If the position of a \n",
      "  local difficulty can be determined (singularity, discontinuity) one will \n",
      "  probably gain from splitting up the interval and calling the integrator \n",
      "  on the subranges.  Perhaps a special-purpose integrator should be used.\n",
      "  integral_value = integrate.quad(S, min(filter_y_V), max(filter_y_V))[0]\n"
     ]
    },
    {
     "name": "stdout",
     "output_type": "stream",
     "text": [
      "SN2007bc\n",
      "SN2005ke\n",
      "SN2005hk\n",
      "SN1996X\n",
      "SN2005ki\n",
      "SN2005cf\n",
      "SN2006bt\n",
      "SN2005el\n",
      "SN1998dh\n",
      "SN2007S\n",
      "SN2004at\n",
      "SN2000cn\n",
      "SN2006S\n",
      "SN1997E\n",
      "SN2007bd\n",
      "SN1972E\n",
      "SN2002er\n",
      "SN2002bz\n",
      "SN2001en\n",
      "SN2000dk\n",
      "SN1994ae\n",
      "SN2008C\n",
      "SN2005am\n",
      "SN2002bo\n",
      "2011ay\n",
      "SN2007on\n",
      "SN2007cq\n",
      "SN2005hc\n",
      "SN1992A\n",
      "LSQ12fxd\n",
      "LSQ12gdj\n",
      "SN2002de\n",
      "SN2016coj\n",
      "SN2001bf\n",
      "2013e\n",
      "SN2001bg\n",
      "SN2015bp\n",
      "SN1994D\n",
      "SN2007qe\n",
      "SN2002ha\n",
      "iPTF13dge\n",
      "SN2005na\n",
      "SN2002dj\n",
      "SN1999by\n",
      "SN1999aa\n",
      "SN1998aq\n",
      "SN2006ax\n",
      "SN2001gc\n",
      "SN2002dp\n",
      "SN2004ef\n",
      "2012cg\n",
      "SN2017fgc\n",
      "SN2012hr\n",
      "SN2009Y\n",
      "SN1995D\n",
      "SN2004as\n",
      "SN2002fb\n",
      "SN2008ec\n",
      "SN2010ae\n",
      "SN2008Z\n",
      "SN2012fr\n",
      "SN2007af\n",
      "SN2006cp\n",
      "SN2007kk\n",
      "SN2005M\n",
      "SN2007hj\n",
      "SN2003cq\n",
      "LSQ12gpw\n",
      "SN2005kc\n",
      "SN2001V\n",
      "SN2006gr\n",
      "SN2001cp\n",
      "SN2007if\n",
      "SN2003kf\n",
      "SN1999ee\n",
      "SN2013bh\n",
      "SN2003du\n",
      "SN2012ht\n",
      "nao ta na banda v\n",
      "SN2017erp\n",
      "SN2001ep\n",
      "SN2001fe\n",
      "SN2008ha\n",
      "nao ta na banda v\n",
      "teste para r sucesso\n",
      "SN2006kf\n",
      "SN2008bf\n"
     ]
    }
   ],
   "source": [
    "for k in range(0,len(sn_names)):\n",
    "\n",
    "    x_lc = []\n",
    "    z_lc = []\n",
    "\n",
    "    print(sn_names[k])\n",
    "\n",
    "    N = sn_names[k]+\".dat\"\n",
    "\n",
    "\n",
    "    file = open(N)\n",
    "    lines = file.readlines()\n",
    "    file.close()\n",
    "\n",
    "    xtemp = []\n",
    "\n",
    "    for line in lines:\n",
    "\n",
    "        if line.startswith('#'): continue\n",
    "        co=line.rstrip().replace('INDEF','Nan').split()\n",
    "\n",
    "        xtemp.append(co[0])\n",
    "\n",
    "    xtemp = np.array(xtemp, dtype=float)\n",
    "\n",
    "\n",
    "    z = np.reshape(xtemp, (601, 61))\n",
    "\n",
    "    zz = []\n",
    "    xx = []\n",
    "    yy = []\n",
    "\n",
    "    for i in range(0,len(y)):\n",
    "\n",
    "        for j in range(0,len(x)):\n",
    "\n",
    "            zz.append(z[i][j])\n",
    "            xx.append(x[j])\n",
    "            yy.append(y[i])\n",
    "            \n",
    "            \n",
    "            \n",
    "\n",
    "    wavetest = []\n",
    "    \n",
    "    for i in range(0,len(zz)):\n",
    "    \n",
    "        if zz[i] != 0:\n",
    "\n",
    "            wavetest.append(yy[i])\n",
    "    \n",
    "    minvar = False\n",
    "    maxvar = False\n",
    "    \n",
    "    #teste da banda V\n",
    "    for i in range(0,len(wavetest)):\n",
    "\n",
    "        if 4600 -50 < wavetest[i] < 4600 + 50:\n",
    "            minvar = True\n",
    "            #print(\"possui minimo\")\n",
    "\n",
    "        if 6580 - 50 < wavetest[i] < 6580 + 50:\n",
    "            maxvar = True\n",
    "            #print(\"possui maximo\")\n",
    "    #print(minvar, maxvar)\n",
    "    \n",
    "    \n",
    "    if maxvar == True and minvar == True:\n",
    "        \n",
    "        for j in range(0,len(x)):\n",
    "\n",
    "            y_temp = []\n",
    "            z_temp = []\n",
    "\n",
    "            for i in range(0,len(xx)):\n",
    "\n",
    "                if xx[i] == x[j]:\n",
    "\n",
    "                    y_temp.append(yy[i])\n",
    "                    z_temp.append(zz[i])\n",
    "\n",
    "            f = interp1d(y_temp, z_temp)\n",
    "\n",
    "            def S(x): return f(x)*f_filter_V(x)\n",
    "            \n",
    "            integral_value = integrate.quad(S, min(filter_y_V), max(filter_y_V))[0]\n",
    "            \n",
    "            z_lc.append(integral_value*Norm_V)\n",
    "            \n",
    "            x_lc.append(x[j]) \n",
    "\n",
    "        maxvaluecalc = max(z_lc)\n",
    "\n",
    "        #print(maxvaluecalc)\n",
    "        if sn_names[k] in snname:\n",
    "            \n",
    "            idx = snname.index(sn_names[k])\n",
    "            \n",
    "            if maxvalueV[idx] != -9999:\n",
    "\n",
    "                #print(\"ok\")\n",
    "                factorsV.append(maxvalueV[idx]/maxvaluecalc)\n",
    "                namesV.append(sn_names[k])\n",
    "            \n",
    "    # se nao ta no range da banda v entao tenta r\n",
    "    if maxvar == False or minvar == False:\n",
    "        \n",
    "        print(\"nao ta na banda v\")\n",
    "        minvar = False\n",
    "        maxvar = False\n",
    "\n",
    "        #teste da banda V\n",
    "        for i in range(0,len(wavetest)):\n",
    "\n",
    "            if 5340 -50 < wavetest[i] < 5340 + 50:\n",
    "                minvar = True\n",
    "                #print(\"possui minimo\")\n",
    "\n",
    "            if 7190 - 50 < wavetest[i] < 7190 + 50:\n",
    "                maxvar = True\n",
    "                #print(\"possui maximo\")\n",
    "        #print(minvar, maxvar)\n",
    "        \n",
    "        if maxvar == True and minvar == True:\n",
    "                print(\"teste para r sucesso\")\n",
    "                for j in range(0,len(x)):\n",
    "\n",
    "                    y_temp = []\n",
    "                    z_temp = []\n",
    "\n",
    "                    for i in range(0,len(xx)):\n",
    "\n",
    "                        if xx[i] == x[j]:\n",
    "\n",
    "                            y_temp.append(yy[i])\n",
    "                            z_temp.append(zz[i])\n",
    "\n",
    "                    f = interp1d(y_temp, z_temp)\n",
    "\n",
    "                    def S(x): return f(x)*f_filter_r(x)\n",
    "\n",
    "                    integral_value = integrate.quad(S, min(filter_y_r), max(filter_y_r))[0]\n",
    "\n",
    "                    z_lc.append(integral_value*Norm_r)\n",
    "\n",
    "                    x_lc.append(x[j])\n",
    "\n",
    "                maxvaluecalc = max(z_lc)\n",
    "\n",
    "                if sn_names[k] in snname:\n",
    "\n",
    "                    idx = snname.index(sn_names[k])\n",
    "\n",
    "                    if maxvaluer[idx] != -9999:\n",
    "\n",
    "                        #print(\"ok\")\n",
    "                        factorsr.append(maxvaluer[idx]/maxvaluecalc)\n",
    "                        namesr.append(sn_names[k])"
   ]
  },
  {
   "cell_type": "code",
   "execution_count": 24,
   "metadata": {},
   "outputs": [
    {
     "data": {
      "text/plain": [
       "['SN2008ha']"
      ]
     },
     "execution_count": 24,
     "metadata": {},
     "output_type": "execute_result"
    }
   ],
   "source": [
    "namesr"
   ]
  },
  {
   "cell_type": "code",
   "execution_count": 22,
   "metadata": {},
   "outputs": [],
   "source": [
    "save_path = '/home/joao/Documentos/PCA'"
   ]
  },
  {
   "cell_type": "code",
   "execution_count": 25,
   "metadata": {},
   "outputs": [],
   "source": [
    "\n",
    "table = []\n",
    "for l in range(0,len(namesV)):\n",
    "    table.append((namesV[l], factorsV[l]))\n",
    "\n",
    "name_of_file = \"factors\"\n",
    "\n",
    "completeName = os.path.join(save_path, name_of_file+\".txt\")\n",
    "\n",
    "f = open(completeName, 'w')\n",
    "f.write(tabulate(table, tablefmt=\"plain\"))\n",
    "f.close()\n"
   ]
  },
  {
   "cell_type": "code",
   "execution_count": null,
   "metadata": {
    "scrolled": true
   },
   "outputs": [],
   "source": [
    "factors"
   ]
  },
  {
   "cell_type": "code",
   "execution_count": null,
   "metadata": {},
   "outputs": [],
   "source": []
  },
  {
   "cell_type": "code",
   "execution_count": null,
   "metadata": {},
   "outputs": [],
   "source": []
  }
 ],
 "metadata": {
  "kernelspec": {
   "display_name": "Python 3",
   "language": "python",
   "name": "python3"
  },
  "language_info": {
   "codemirror_mode": {
    "name": "ipython",
    "version": 3
   },
   "file_extension": ".py",
   "mimetype": "text/x-python",
   "name": "python",
   "nbconvert_exporter": "python",
   "pygments_lexer": "ipython3",
   "version": "3.8.2"
  }
 },
 "nbformat": 4,
 "nbformat_minor": 2
}
