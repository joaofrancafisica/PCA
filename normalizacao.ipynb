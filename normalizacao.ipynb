{
 "cells": [
  {
   "cell_type": "code",
   "execution_count": 1,
   "metadata": {},
   "outputs": [],
   "source": [
    "%matplotlib inline"
   ]
  },
  {
   "cell_type": "code",
   "execution_count": 2,
   "metadata": {},
   "outputs": [],
   "source": [
    "import scipy as sp\n",
    "import scipy.interpolate\n",
    "import numpy as np\n",
    "import glob #to read the files\n",
    "from sklearn.decomposition import PCA\n",
    "from ipywidgets import *\n",
    "from tabulate import tabulate #to export in table format\n",
    "from scipy import interpolate\n",
    "import scipy.interpolate as interp\n",
    "from scipy.integrate import quad\n",
    "import matplotlib.pyplot as plt\n",
    "from scipy.interpolate import interp1d\n",
    "import scipy.integrate as integrate\n",
    "from astropy import constants as const\n",
    "import sncosmo\n",
    "import json\n",
    "from astropy.time import Time #to time converting\n",
    "from astropy import units #time correction\n",
    "from astropy.coordinates import SkyCoord #time correction\n",
    "import math"
   ]
  },
  {
   "cell_type": "code",
   "execution_count": 3,
   "metadata": {},
   "outputs": [],
   "source": [
    "%run /home/joao/Documentos/templates/functions.ipynb"
   ]
  },
  {
   "cell_type": "code",
   "execution_count": 4,
   "metadata": {},
   "outputs": [],
   "source": [
    "csp = sncosmo.get_magsystem('csp')\n",
    "Norm_V = (1/(csp.zpbandflux(\"cspv9844\")))\n",
    "Norm_r = (1/(csp.zpbandflux(\"cspr\")))"
   ]
  },
  {
   "cell_type": "code",
   "execution_count": 5,
   "metadata": {},
   "outputs": [
    {
     "data": {
      "text/plain": [
       "1.6839572518342795e-06"
      ]
     },
     "execution_count": 5,
     "metadata": {},
     "output_type": "execute_result"
    }
   ],
   "source": [
    "Norm_V"
   ]
  },
  {
   "cell_type": "code",
   "execution_count": 6,
   "metadata": {},
   "outputs": [],
   "source": [
    "filter_y_V = []\n",
    "filter_z_V = []"
   ]
  },
  {
   "cell_type": "code",
   "execution_count": 7,
   "metadata": {},
   "outputs": [],
   "source": [
    "file = open(\"V_tel_ccd_atm_ext_1.2.txt\")\n",
    "lines = file.readlines()\n",
    "file.close()"
   ]
  },
  {
   "cell_type": "code",
   "execution_count": 8,
   "metadata": {},
   "outputs": [],
   "source": [
    "for line in lines:\n",
    "\n",
    "    if line.startswith('#'): continue\n",
    "    co=line.rstrip().replace('INDEF','Nan').split()\n",
    "\n",
    "    filter_y_V.append(co[0])\n",
    "    filter_z_V.append(co[1])\n",
    "\n",
    "filter_y_V = np.array(filter_y_V, dtype=float)\n",
    "filter_z_V = np.array(filter_z_V, dtype=float)"
   ]
  },
  {
   "cell_type": "code",
   "execution_count": 9,
   "metadata": {},
   "outputs": [],
   "source": [
    "f_filter_V = interp1d(filter_y_V, filter_z_V)"
   ]
  },
  {
   "cell_type": "code",
   "execution_count": 10,
   "metadata": {},
   "outputs": [],
   "source": [
    "filter_y_r = []\n",
    "filter_z_r = []"
   ]
  },
  {
   "cell_type": "code",
   "execution_count": 11,
   "metadata": {},
   "outputs": [],
   "source": [
    "file = open(\"r_tel_ccd_atm_ext_1.2_new.txt\")\n",
    "lines = file.readlines()\n",
    "file.close()"
   ]
  },
  {
   "cell_type": "code",
   "execution_count": 12,
   "metadata": {},
   "outputs": [],
   "source": [
    "for line in lines:\n",
    "\n",
    "    if line.startswith('#'): continue\n",
    "    co=line.rstrip().replace('INDEF','Nan').split()\n",
    "\n",
    "    filter_y_r.append(co[0])\n",
    "    filter_z_r.append(co[1])\n",
    "\n",
    "filter_y_r = np.array(filter_y_r, dtype=float)\n",
    "filter_z_r = np.array(filter_z_r, dtype=float)"
   ]
  },
  {
   "cell_type": "code",
   "execution_count": 13,
   "metadata": {},
   "outputs": [],
   "source": [
    "f_filter_r = interp1d(filter_y_r, filter_z_r)"
   ]
  },
  {
   "cell_type": "code",
   "execution_count": 14,
   "metadata": {},
   "outputs": [],
   "source": [
    "x = np.linspace(-10,50,61)\n",
    "y = np.linspace(3000,9000,601)"
   ]
  },
  {
   "cell_type": "code",
   "execution_count": 15,
   "metadata": {},
   "outputs": [],
   "source": [
    "file = open(\"max_values.txt\")\n",
    "lines = file.readlines()\n",
    "file.close()\n",
    "\n",
    "snname = []\n",
    "maxvalueV = []\n",
    "maxvaluer = []\n",
    "\n",
    "for line in lines:\n",
    "\n",
    "    if line.startswith('#'): continue\n",
    "    co=line.rstrip().replace('INDEF','Nan').split()\n",
    "\n",
    "    snname.append(co[0])\n",
    "    maxvalueV.append(co[1])\n",
    "    maxvaluer.append(co[2])\n",
    "\n",
    "\n",
    "maxvalueV = np.array(maxvalueV, dtype=float)\n",
    "maxvaluer = np.array(maxvaluer, dtype=float)"
   ]
  },
  {
   "cell_type": "code",
   "execution_count": 16,
   "metadata": {},
   "outputs": [],
   "source": [
    "#for i in range(0,len(snname)):\n",
    "    \n",
    "#    snname[i] = snname[i][:-5]"
   ]
  },
  {
   "cell_type": "code",
   "execution_count": 17,
   "metadata": {},
   "outputs": [
    {
     "name": "stdout",
     "output_type": "stream",
     "text": [
      "134\n"
     ]
    }
   ],
   "source": [
    "sn_names=glob.glob(\"*.dat\")\n",
    "print(len(sn_names))"
   ]
  },
  {
   "cell_type": "code",
   "execution_count": 18,
   "metadata": {},
   "outputs": [],
   "source": [
    "for i in range(0,len(sn_names)):\n",
    "\n",
    "    sn_names[i] = sn_names[i][:-4]"
   ]
  },
  {
   "cell_type": "code",
   "execution_count": 19,
   "metadata": {},
   "outputs": [],
   "source": [
    "factorsV = []\n",
    "namesV = []"
   ]
  },
  {
   "cell_type": "code",
   "execution_count": 20,
   "metadata": {},
   "outputs": [],
   "source": [
    "factorsr = []\n",
    "namesr = []"
   ]
  },
  {
   "cell_type": "code",
   "execution_count": 21,
   "metadata": {},
   "outputs": [],
   "source": [
    "#hist = []"
   ]
  },
  {
   "cell_type": "code",
   "execution_count": 22,
   "metadata": {},
   "outputs": [],
   "source": [
    "#sn_names = [\"SN2012fr\"]"
   ]
  },
  {
   "cell_type": "code",
   "execution_count": 23,
   "metadata": {
    "scrolled": true
   },
   "outputs": [
    {
     "name": "stdout",
     "output_type": "stream",
     "text": [
      "0.02731\n",
      "0.007929\n",
      "0.03024\n",
      "0.037039\n",
      "0.0109\n",
      "0.006004\n",
      "0.00885\n",
      "nao ta na banda v\n",
      "0.015067397898713919\n",
      "0.034901\n",
      "0.025007\n",
      "0.000841\n",
      "0.006861\n",
      "0.008529\n",
      "0.01433\n",
      "0.01043\n",
      "0.01558\n",
      "0.02406\n",
      "0.017432\n",
      "0.005101\n",
      "0.007132\n",
      "0.020071\n",
      "0.02197002237988821\n",
      "0.006941\n",
      "0.02660272499077032\n",
      "0.007609\n",
      "0.02834\n",
      "0.023591\n",
      "0.003889\n",
      "0.0115\n",
      "0.026147\n",
      "0.01577\n",
      "0.00948\n",
      "0.008309\n",
      "0.01914\n",
      "0.02077\n",
      "0.00488\n",
      "0.01117\n",
      "0.01306\n",
      "0.00749\n",
      "0.019207\n",
      "0.016455\n",
      "0.006461\n",
      "0.032156\n",
      "0.01490009610926979\n",
      "0.00897\n",
      "0.01388\n",
      "0.023131\n",
      "0.02349\n",
      "0.01973\n",
      "0.032102\n",
      "0.01354\n",
      "0.03096718391784581\n",
      "0.001358\n",
      "0.008569\n",
      "0.037149\n",
      "0.015871\n",
      "0.01744\n",
      "0.00524\n",
      "0.004266\n",
      "0.001458\n",
      "0.01660210068034762\n",
      "0.007899\n",
      "0.00424\n",
      "0.01647\n",
      "0.006494\n",
      "0.0259\n"
     ]
    },
    {
     "name": "stderr",
     "output_type": "stream",
     "text": [
      "<ipython-input-23-cedc70d99f6f>:114: IntegrationWarning: The maximum number of subdivisions (50) has been achieved.\n",
      "  If increasing the limit yields no improvement it is advised to analyze \n",
      "  the integrand in order to determine the difficulties.  If the position of a \n",
      "  local difficulty can be determined (singularity, discontinuity) one will \n",
      "  probably gain from splitting up the interval and calling the integrator \n",
      "  on the subranges.  Perhaps a special-purpose integrator should be used.\n",
      "  integral_value = integrate.quad(S, min(filter_y_V), max(filter_y_V))[0]\n"
     ]
    },
    {
     "name": "stdout",
     "output_type": "stream",
     "text": [
      "0.045948829040162176\n",
      "0.00626\n",
      "0.031\n",
      "0.03\n",
      "0.028116\n",
      "0.004483\n",
      "0.015501\n",
      "0.007122\n",
      "0.004069\n",
      "0.00149\n",
      "0.0239\n",
      "0.014046\n",
      "0.010344\n",
      "0.015854\n",
      "0.02629016098230008\n",
      "0.009393\n",
      "0.00864\n",
      "0.002128\n",
      "0.006211\n",
      "0.01444\n",
      "0.003699\n",
      "0.016725\n",
      "0.02829\n",
      "0.01929\n",
      "0.011639\n",
      "0.031003287895856158\n",
      "0.007722\n",
      "0.008\n",
      "0.009316\n",
      "0.006561\n",
      "0.006721\n",
      "0.012526589416171241\n",
      "0.031021\n",
      "0.005656012429203772\n",
      "0.015567\n",
      "0.016317\n",
      "0.003662\n",
      "0.000804\n",
      "0.02099\n",
      "0.0054\n",
      "0.005464\n",
      "0.022289\n",
      "0.041045\n",
      "0.02197499768617539\n",
      "0.01411\n",
      "0.033283\n",
      "0.01158\n",
      "0.058\n",
      "0.01512\n",
      "0.01502\n",
      "0.012946957105361312\n",
      "0.034601\n",
      "0.022402\n",
      "0.07423915994326902\n",
      "0.007388\n",
      "0.01141\n",
      "0.068\n",
      "0.006381\n",
      "0.003559\n",
      "nao ta na banda v\n",
      "0.017653315868428443\n",
      "0.02158\n",
      "0.006174\n",
      "0.013012\n",
      "0.013539\n",
      "0.004623\n",
      "nao ta na banda v\n",
      "teste para r sucesso\n",
      "0.02129693315973835\n",
      "0.013189\n",
      "0.024027\n"
     ]
    }
   ],
   "source": [
    "for k in range(0,len(sn_names)):\n",
    "    \n",
    "    name = \"/home/joao/Documentos/templates/\"+sn_names[k]+\".json\"\n",
    "\n",
    "    #print(name)\n",
    "    \n",
    "    with open(name, \"r\") as read_file:\n",
    "        data = json.load(read_file)\n",
    "\n",
    "    \n",
    "    redshift = redshift_value(data[sn_names[k]])\n",
    "    \n",
    "    \n",
    "    '''\n",
    "    filter_y_V_temp = []\n",
    "    \n",
    "    filter_y_r_temp = []\n",
    "    \n",
    "    for i in range(0, len(filter_y_V)):\n",
    "        \n",
    "        filter_y_V_temp.append(filter_y_V[i]*(1/(1+redshift)))\n",
    "        \n",
    "    for i in range(0, len(filter_y_r)):\n",
    "        \n",
    "        filter_y_r_temp.append(filter_y_r[i]*(1/(1+redshift))) \n",
    "    \n",
    "    \n",
    "    f_filter_V = interp1d(filter_y_V_temp, filter_z_V)\n",
    "    f_filter_r = interp1d(filter_y_r_temp, filter_z_r)\n",
    "    '''\n",
    "    x_lc = []\n",
    "    z_lc = []\n",
    "\n",
    "    #print(sn_names[k])\n",
    "\n",
    "    N = sn_names[k]+\".dat\"\n",
    "\n",
    "\n",
    "    file = open(N)\n",
    "    lines = file.readlines()\n",
    "    file.close()\n",
    "\n",
    "    xtemp = []\n",
    "\n",
    "    for line in lines:\n",
    "\n",
    "        if line.startswith('#'): continue\n",
    "        co=line.rstrip().replace('INDEF','Nan').split()\n",
    "\n",
    "        xtemp.append(co[0])\n",
    "\n",
    "    xtemp = np.array(xtemp, dtype=float)\n",
    "\n",
    "\n",
    "    z = np.reshape(xtemp, (601, 61))\n",
    "\n",
    "    zz = []\n",
    "    xx = []\n",
    "    yy = []\n",
    "\n",
    "    for i in range(0,len(y)):\n",
    "\n",
    "        for j in range(0,len(x)):\n",
    "\n",
    "            zz.append(z[i][j])\n",
    "            xx.append(x[j])\n",
    "            yy.append(y[i])\n",
    "            \n",
    "            \n",
    "    #print(zz)        \n",
    "\n",
    "    wavetest = []\n",
    "    \n",
    "    for i in range(0,len(zz)):\n",
    "    \n",
    "        if zz[i] != 0:\n",
    "\n",
    "            wavetest.append(yy[i])\n",
    "    \n",
    "    minvar = False\n",
    "    maxvar = False\n",
    "    \n",
    "    #teste da banda V\n",
    "    for i in range(0,len(wavetest)):\n",
    "\n",
    "        if 4600*(1/(1+redshift)) - 20 < wavetest[i] < 4600*(1/(1+redshift)) + 20:\n",
    "            minvar = True\n",
    "            #print(\"possui minimo\")\n",
    "\n",
    "        if 6580*(1/(1+redshift)) - 20 < wavetest[i] < 6580*(1/(1+redshift)) + 20:\n",
    "            maxvar = True\n",
    "            #print(\"possui maximo\")\n",
    "    #print(minvar, maxvar)\n",
    "    \n",
    "    \n",
    "    if maxvar == True and minvar == True:\n",
    "        \n",
    "        for j in range(0,len(x)):\n",
    "\n",
    "            y_temp = []\n",
    "            z_temp = []\n",
    "\n",
    "            for i in range(0,len(xx)):\n",
    "\n",
    "                if xx[i] == x[j]:\n",
    "\n",
    "                    y_temp.append(yy[i])\n",
    "                    z_temp.append(zz[i])\n",
    "            \n",
    "            f = interp1d(y_temp, z_temp)\n",
    "\n",
    "            def S(x): return (1+redshift)*f(x)*f_filter_V(x)*x\n",
    "            \n",
    "            integral_value = integrate.quad(S, min(filter_y_V), max(filter_y_V))[0]\n",
    "            \n",
    "            z_lc.append(integral_value*Norm_V)\n",
    "            \n",
    "            x_lc.append(x[j]) \n",
    "\n",
    "        maxvaluecalc = max(z_lc)\n",
    "\n",
    "        #print(maxvaluecalc)\n",
    "        if sn_names[k] in snname:\n",
    "            \n",
    "            idx = snname.index(sn_names[k])\n",
    "            \n",
    "            if maxvalueV[idx] != -9999:\n",
    "\n",
    "                #print(\"ok\")\n",
    "                factorsV.append(maxvalueV[idx]/maxvaluecalc)\n",
    "                namesV.append(sn_names[k])\n",
    "            \n",
    "    # se nao ta no range da banda v entao tenta r\n",
    "    if maxvar == False or minvar == False:\n",
    "        \n",
    "        print(\"nao ta na banda v\")\n",
    "        minvar = False\n",
    "        maxvar = False\n",
    "\n",
    "        #teste da banda V\n",
    "        for i in range(0,len(wavetest)):\n",
    "\n",
    "            if 5340*(1/(1+redshift)) - 20 < wavetest[i] < 5340*(1/(1+redshift)) + 20:\n",
    "                minvar = True\n",
    "                #print(\"possui minimo\")\n",
    "\n",
    "            if 7190*(1/(1+redshift)) - 20 < wavetest[i] < 7190*(1/(1+redshift)) + 20:\n",
    "                maxvar = True\n",
    "                #print(\"possui maximo\")\n",
    "        #print(minvar, maxvar)\n",
    "        \n",
    "        if maxvar == True and minvar == True:\n",
    "                print(\"teste para r sucesso\")\n",
    "                for j in range(0,len(x)):\n",
    "\n",
    "                    y_temp = []\n",
    "                    z_temp = []\n",
    "\n",
    "                    for i in range(0,len(xx)):\n",
    "\n",
    "                        if xx[i] == x[j]:\n",
    "\n",
    "                            y_temp.append(yy[i])\n",
    "                            z_temp.append(zz[i])\n",
    "\n",
    "                    f = interp1d(y_temp, z_temp)\n",
    "\n",
    "                    def S(x): return (1+redshift)*f(x)*f_filter_r(x)\n",
    "\n",
    "                    integral_value = integrate.quad(S, min(filter_y_r), max(filter_y_r))[0]\n",
    "\n",
    "                    z_lc.append(integral_value*Norm_r)\n",
    "\n",
    "                    x_lc.append(x[j])\n",
    "\n",
    "                maxvaluecalc = max(z_lc)\n",
    "\n",
    "                if sn_names[k] in snname:\n",
    "\n",
    "                    idx = snname.index(sn_names[k])\n",
    "\n",
    "                    if maxvaluer[idx] != -9999:\n",
    "\n",
    "                        #print(\"ok\")\n",
    "                        factorsr.append(maxvaluer[idx]/maxvaluecalc)\n",
    "                        namesr.append(sn_names[k])"
   ]
  },
  {
   "cell_type": "code",
   "execution_count": 24,
   "metadata": {},
   "outputs": [
    {
     "data": {
      "text/plain": [
       "['SN2008ha']"
      ]
     },
     "execution_count": 24,
     "metadata": {},
     "output_type": "execute_result"
    }
   ],
   "source": [
    "namesr"
   ]
  },
  {
   "cell_type": "code",
   "execution_count": 25,
   "metadata": {},
   "outputs": [],
   "source": [
    "save_path = '/home/joao/Documentos/PCA'"
   ]
  },
  {
   "cell_type": "code",
   "execution_count": 26,
   "metadata": {},
   "outputs": [],
   "source": [
    "\n",
    "table = []\n",
    "for l in range(0,len(namesV)):\n",
    "    table.append((namesV[l], factorsV[l]))\n",
    "\n",
    "name_of_file = \"factors\"\n",
    "\n",
    "completeName = os.path.join(save_path, name_of_file+\".txt\")\n",
    "\n",
    "f = open(completeName, 'w')\n",
    "f.write(tabulate(table, tablefmt=\"plain\"))\n",
    "f.close()\n"
   ]
  },
  {
   "cell_type": "code",
   "execution_count": null,
   "metadata": {},
   "outputs": [],
   "source": []
  },
  {
   "cell_type": "code",
   "execution_count": null,
   "metadata": {},
   "outputs": [],
   "source": []
  }
 ],
 "metadata": {
  "kernelspec": {
   "display_name": "Python 3",
   "language": "python",
   "name": "python3"
  },
  "language_info": {
   "codemirror_mode": {
    "name": "ipython",
    "version": 3
   },
   "file_extension": ".py",
   "mimetype": "text/x-python",
   "name": "python",
   "nbconvert_exporter": "python",
   "pygments_lexer": "ipython3",
   "version": "3.8.2"
  }
 },
 "nbformat": 4,
 "nbformat_minor": 2
}
